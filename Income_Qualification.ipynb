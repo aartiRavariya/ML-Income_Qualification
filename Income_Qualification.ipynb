{
  "nbformat": 4,
  "nbformat_minor": 0,
  "metadata": {
    "colab": {
      "name": "Income Qualification.ipynb",
      "provenance": []
    },
    "kernelspec": {
      "name": "python3",
      "display_name": "Python 3"
    },
    "language_info": {
      "name": "python"
    }
  },
  "cells": [
    {
      "cell_type": "markdown",
      "metadata": {
        "id": "pN5usmyKxBKd"
      },
      "source": [
        "# DESCRIPTION\n",
        "Identify the level of income qualification needed for the families in Latin America.\n",
        "\n",
        "## Problem Statement Scenario:\n",
        "Many social programs have a hard time ensuring that the right people are given enough aid. It’s tricky when a program focuses on the poorest segment of the population. This segment of the population can’t provide the necessary income and expense records to prove that they qualify.\n",
        "\n",
        "In Latin America, a popular method called Proxy Means Test (PMT) uses an algorithm to verify income qualification. With PMT, agencies use a model that considers a family’s observable household attributes like the material of their walls and ceiling or the assets found in their homes to classify them and predict their level of need.\n",
        "\n",
        "While this is an improvement, accuracy remains a problem as the region’s population grows and poverty declines.\n",
        "\n",
        "The Inter-American Development Bank (IDB)believes that new methods beyond traditional econometrics, based on a dataset of Costa Rican household characteristics, might help improve PMT’s performance.\n",
        "\n",
        "\n",
        "\n",
        "\n"
      ]
    },
    {
      "cell_type": "markdown",
      "metadata": {
        "id": "CJ4a8USvx-IU"
      },
      "source": [
        "##### Step 1: Understand the Data\n",
        "1.1 Import necessary Libraries"
      ]
    },
    {
      "cell_type": "code",
      "metadata": {
        "id": "TY4TYxSsuB26"
      },
      "source": [
        "import numpy as np\n",
        "import pandas as pd\n",
        "import matplotlib.pyplot as plt\n",
        "import seaborn as sns\n",
        "sns.set()\n",
        "\n",
        "\n",
        "import warnings\n",
        "warnings.filterwarnings('ignore')"
      ],
      "execution_count": 73,
      "outputs": []
    },
    {
      "cell_type": "markdown",
      "metadata": {
        "id": "W8u3qLC1yElB"
      },
      "source": [
        "1.2 Load Data"
      ]
    },
    {
      "cell_type": "code",
      "metadata": {
        "id": "ZQf4RTPRvCJ5"
      },
      "source": [
        "df_income_train = pd.read_csv(\"train.csv\")\n",
        "df_income_test =  pd.read_csv(\"test.csv\")"
      ],
      "execution_count": 74,
      "outputs": []
    },
    {
      "cell_type": "markdown",
      "metadata": {
        "id": "mJotT44_yIC-"
      },
      "source": [
        "1.3 Explore Train dataset\n",
        "\n",
        "View first 5 records of train dataset"
      ]
    },
    {
      "cell_type": "code",
      "metadata": {
        "colab": {
          "base_uri": "https://localhost:8080/",
          "height": 251
        },
        "id": "mgWR_n6kvFOt",
        "outputId": "f9863238-717d-443a-ba49-eb772a4aae75"
      },
      "source": [
        "df_income_train.head()"
      ],
      "execution_count": 75,
      "outputs": [
        {
          "output_type": "execute_result",
          "data": {
            "text/html": [
              "<div>\n",
              "<style scoped>\n",
              "    .dataframe tbody tr th:only-of-type {\n",
              "        vertical-align: middle;\n",
              "    }\n",
              "\n",
              "    .dataframe tbody tr th {\n",
              "        vertical-align: top;\n",
              "    }\n",
              "\n",
              "    .dataframe thead th {\n",
              "        text-align: right;\n",
              "    }\n",
              "</style>\n",
              "<table border=\"1\" class=\"dataframe\">\n",
              "  <thead>\n",
              "    <tr style=\"text-align: right;\">\n",
              "      <th></th>\n",
              "      <th>Id</th>\n",
              "      <th>v2a1</th>\n",
              "      <th>hacdor</th>\n",
              "      <th>rooms</th>\n",
              "      <th>hacapo</th>\n",
              "      <th>v14a</th>\n",
              "      <th>refrig</th>\n",
              "      <th>v18q</th>\n",
              "      <th>v18q1</th>\n",
              "      <th>r4h1</th>\n",
              "      <th>r4h2</th>\n",
              "      <th>r4h3</th>\n",
              "      <th>r4m1</th>\n",
              "      <th>r4m2</th>\n",
              "      <th>r4m3</th>\n",
              "      <th>r4t1</th>\n",
              "      <th>r4t2</th>\n",
              "      <th>r4t3</th>\n",
              "      <th>tamhog</th>\n",
              "      <th>tamviv</th>\n",
              "      <th>escolari</th>\n",
              "      <th>rez_esc</th>\n",
              "      <th>hhsize</th>\n",
              "      <th>paredblolad</th>\n",
              "      <th>paredzocalo</th>\n",
              "      <th>paredpreb</th>\n",
              "      <th>pareddes</th>\n",
              "      <th>paredmad</th>\n",
              "      <th>paredzinc</th>\n",
              "      <th>paredfibras</th>\n",
              "      <th>paredother</th>\n",
              "      <th>pisomoscer</th>\n",
              "      <th>pisocemento</th>\n",
              "      <th>pisoother</th>\n",
              "      <th>pisonatur</th>\n",
              "      <th>pisonotiene</th>\n",
              "      <th>pisomadera</th>\n",
              "      <th>techozinc</th>\n",
              "      <th>techoentrepiso</th>\n",
              "      <th>techocane</th>\n",
              "      <th>...</th>\n",
              "      <th>meaneduc</th>\n",
              "      <th>instlevel1</th>\n",
              "      <th>instlevel2</th>\n",
              "      <th>instlevel3</th>\n",
              "      <th>instlevel4</th>\n",
              "      <th>instlevel5</th>\n",
              "      <th>instlevel6</th>\n",
              "      <th>instlevel7</th>\n",
              "      <th>instlevel8</th>\n",
              "      <th>instlevel9</th>\n",
              "      <th>bedrooms</th>\n",
              "      <th>overcrowding</th>\n",
              "      <th>tipovivi1</th>\n",
              "      <th>tipovivi2</th>\n",
              "      <th>tipovivi3</th>\n",
              "      <th>tipovivi4</th>\n",
              "      <th>tipovivi5</th>\n",
              "      <th>computer</th>\n",
              "      <th>television</th>\n",
              "      <th>mobilephone</th>\n",
              "      <th>qmobilephone</th>\n",
              "      <th>lugar1</th>\n",
              "      <th>lugar2</th>\n",
              "      <th>lugar3</th>\n",
              "      <th>lugar4</th>\n",
              "      <th>lugar5</th>\n",
              "      <th>lugar6</th>\n",
              "      <th>area1</th>\n",
              "      <th>area2</th>\n",
              "      <th>age</th>\n",
              "      <th>SQBescolari</th>\n",
              "      <th>SQBage</th>\n",
              "      <th>SQBhogar_total</th>\n",
              "      <th>SQBedjefe</th>\n",
              "      <th>SQBhogar_nin</th>\n",
              "      <th>SQBovercrowding</th>\n",
              "      <th>SQBdependency</th>\n",
              "      <th>SQBmeaned</th>\n",
              "      <th>agesq</th>\n",
              "      <th>Target</th>\n",
              "    </tr>\n",
              "  </thead>\n",
              "  <tbody>\n",
              "    <tr>\n",
              "      <th>0</th>\n",
              "      <td>ID_279628684</td>\n",
              "      <td>190000.0</td>\n",
              "      <td>0</td>\n",
              "      <td>3</td>\n",
              "      <td>0</td>\n",
              "      <td>1</td>\n",
              "      <td>1</td>\n",
              "      <td>0</td>\n",
              "      <td>NaN</td>\n",
              "      <td>0</td>\n",
              "      <td>1</td>\n",
              "      <td>1</td>\n",
              "      <td>0</td>\n",
              "      <td>0</td>\n",
              "      <td>0</td>\n",
              "      <td>0</td>\n",
              "      <td>1</td>\n",
              "      <td>1</td>\n",
              "      <td>1</td>\n",
              "      <td>1</td>\n",
              "      <td>10</td>\n",
              "      <td>NaN</td>\n",
              "      <td>1</td>\n",
              "      <td>1</td>\n",
              "      <td>0</td>\n",
              "      <td>0</td>\n",
              "      <td>0</td>\n",
              "      <td>0</td>\n",
              "      <td>0</td>\n",
              "      <td>0</td>\n",
              "      <td>0</td>\n",
              "      <td>1</td>\n",
              "      <td>0</td>\n",
              "      <td>0</td>\n",
              "      <td>0</td>\n",
              "      <td>0</td>\n",
              "      <td>0</td>\n",
              "      <td>0</td>\n",
              "      <td>1</td>\n",
              "      <td>0</td>\n",
              "      <td>...</td>\n",
              "      <td>10.0</td>\n",
              "      <td>0</td>\n",
              "      <td>0</td>\n",
              "      <td>0</td>\n",
              "      <td>1</td>\n",
              "      <td>0</td>\n",
              "      <td>0</td>\n",
              "      <td>0</td>\n",
              "      <td>0</td>\n",
              "      <td>0</td>\n",
              "      <td>1</td>\n",
              "      <td>1.000000</td>\n",
              "      <td>0</td>\n",
              "      <td>0</td>\n",
              "      <td>1</td>\n",
              "      <td>0</td>\n",
              "      <td>0</td>\n",
              "      <td>0</td>\n",
              "      <td>0</td>\n",
              "      <td>1</td>\n",
              "      <td>1</td>\n",
              "      <td>1</td>\n",
              "      <td>0</td>\n",
              "      <td>0</td>\n",
              "      <td>0</td>\n",
              "      <td>0</td>\n",
              "      <td>0</td>\n",
              "      <td>1</td>\n",
              "      <td>0</td>\n",
              "      <td>43</td>\n",
              "      <td>100</td>\n",
              "      <td>1849</td>\n",
              "      <td>1</td>\n",
              "      <td>100</td>\n",
              "      <td>0</td>\n",
              "      <td>1.000000</td>\n",
              "      <td>0.0</td>\n",
              "      <td>100.0</td>\n",
              "      <td>1849</td>\n",
              "      <td>4</td>\n",
              "    </tr>\n",
              "    <tr>\n",
              "      <th>1</th>\n",
              "      <td>ID_f29eb3ddd</td>\n",
              "      <td>135000.0</td>\n",
              "      <td>0</td>\n",
              "      <td>4</td>\n",
              "      <td>0</td>\n",
              "      <td>1</td>\n",
              "      <td>1</td>\n",
              "      <td>1</td>\n",
              "      <td>1.0</td>\n",
              "      <td>0</td>\n",
              "      <td>1</td>\n",
              "      <td>1</td>\n",
              "      <td>0</td>\n",
              "      <td>0</td>\n",
              "      <td>0</td>\n",
              "      <td>0</td>\n",
              "      <td>1</td>\n",
              "      <td>1</td>\n",
              "      <td>1</td>\n",
              "      <td>1</td>\n",
              "      <td>12</td>\n",
              "      <td>NaN</td>\n",
              "      <td>1</td>\n",
              "      <td>0</td>\n",
              "      <td>0</td>\n",
              "      <td>0</td>\n",
              "      <td>0</td>\n",
              "      <td>1</td>\n",
              "      <td>0</td>\n",
              "      <td>0</td>\n",
              "      <td>0</td>\n",
              "      <td>0</td>\n",
              "      <td>0</td>\n",
              "      <td>0</td>\n",
              "      <td>0</td>\n",
              "      <td>0</td>\n",
              "      <td>1</td>\n",
              "      <td>1</td>\n",
              "      <td>0</td>\n",
              "      <td>0</td>\n",
              "      <td>...</td>\n",
              "      <td>12.0</td>\n",
              "      <td>0</td>\n",
              "      <td>0</td>\n",
              "      <td>0</td>\n",
              "      <td>0</td>\n",
              "      <td>0</td>\n",
              "      <td>0</td>\n",
              "      <td>0</td>\n",
              "      <td>1</td>\n",
              "      <td>0</td>\n",
              "      <td>1</td>\n",
              "      <td>1.000000</td>\n",
              "      <td>0</td>\n",
              "      <td>0</td>\n",
              "      <td>1</td>\n",
              "      <td>0</td>\n",
              "      <td>0</td>\n",
              "      <td>0</td>\n",
              "      <td>0</td>\n",
              "      <td>1</td>\n",
              "      <td>1</td>\n",
              "      <td>1</td>\n",
              "      <td>0</td>\n",
              "      <td>0</td>\n",
              "      <td>0</td>\n",
              "      <td>0</td>\n",
              "      <td>0</td>\n",
              "      <td>1</td>\n",
              "      <td>0</td>\n",
              "      <td>67</td>\n",
              "      <td>144</td>\n",
              "      <td>4489</td>\n",
              "      <td>1</td>\n",
              "      <td>144</td>\n",
              "      <td>0</td>\n",
              "      <td>1.000000</td>\n",
              "      <td>64.0</td>\n",
              "      <td>144.0</td>\n",
              "      <td>4489</td>\n",
              "      <td>4</td>\n",
              "    </tr>\n",
              "    <tr>\n",
              "      <th>2</th>\n",
              "      <td>ID_68de51c94</td>\n",
              "      <td>NaN</td>\n",
              "      <td>0</td>\n",
              "      <td>8</td>\n",
              "      <td>0</td>\n",
              "      <td>1</td>\n",
              "      <td>1</td>\n",
              "      <td>0</td>\n",
              "      <td>NaN</td>\n",
              "      <td>0</td>\n",
              "      <td>0</td>\n",
              "      <td>0</td>\n",
              "      <td>0</td>\n",
              "      <td>1</td>\n",
              "      <td>1</td>\n",
              "      <td>0</td>\n",
              "      <td>1</td>\n",
              "      <td>1</td>\n",
              "      <td>1</td>\n",
              "      <td>1</td>\n",
              "      <td>11</td>\n",
              "      <td>NaN</td>\n",
              "      <td>1</td>\n",
              "      <td>0</td>\n",
              "      <td>0</td>\n",
              "      <td>0</td>\n",
              "      <td>0</td>\n",
              "      <td>1</td>\n",
              "      <td>0</td>\n",
              "      <td>0</td>\n",
              "      <td>0</td>\n",
              "      <td>1</td>\n",
              "      <td>0</td>\n",
              "      <td>0</td>\n",
              "      <td>0</td>\n",
              "      <td>0</td>\n",
              "      <td>0</td>\n",
              "      <td>1</td>\n",
              "      <td>0</td>\n",
              "      <td>0</td>\n",
              "      <td>...</td>\n",
              "      <td>11.0</td>\n",
              "      <td>0</td>\n",
              "      <td>0</td>\n",
              "      <td>0</td>\n",
              "      <td>0</td>\n",
              "      <td>1</td>\n",
              "      <td>0</td>\n",
              "      <td>0</td>\n",
              "      <td>0</td>\n",
              "      <td>0</td>\n",
              "      <td>2</td>\n",
              "      <td>0.500000</td>\n",
              "      <td>1</td>\n",
              "      <td>0</td>\n",
              "      <td>0</td>\n",
              "      <td>0</td>\n",
              "      <td>0</td>\n",
              "      <td>0</td>\n",
              "      <td>0</td>\n",
              "      <td>0</td>\n",
              "      <td>0</td>\n",
              "      <td>1</td>\n",
              "      <td>0</td>\n",
              "      <td>0</td>\n",
              "      <td>0</td>\n",
              "      <td>0</td>\n",
              "      <td>0</td>\n",
              "      <td>1</td>\n",
              "      <td>0</td>\n",
              "      <td>92</td>\n",
              "      <td>121</td>\n",
              "      <td>8464</td>\n",
              "      <td>1</td>\n",
              "      <td>0</td>\n",
              "      <td>0</td>\n",
              "      <td>0.250000</td>\n",
              "      <td>64.0</td>\n",
              "      <td>121.0</td>\n",
              "      <td>8464</td>\n",
              "      <td>4</td>\n",
              "    </tr>\n",
              "    <tr>\n",
              "      <th>3</th>\n",
              "      <td>ID_d671db89c</td>\n",
              "      <td>180000.0</td>\n",
              "      <td>0</td>\n",
              "      <td>5</td>\n",
              "      <td>0</td>\n",
              "      <td>1</td>\n",
              "      <td>1</td>\n",
              "      <td>1</td>\n",
              "      <td>1.0</td>\n",
              "      <td>0</td>\n",
              "      <td>2</td>\n",
              "      <td>2</td>\n",
              "      <td>1</td>\n",
              "      <td>1</td>\n",
              "      <td>2</td>\n",
              "      <td>1</td>\n",
              "      <td>3</td>\n",
              "      <td>4</td>\n",
              "      <td>4</td>\n",
              "      <td>4</td>\n",
              "      <td>9</td>\n",
              "      <td>1.0</td>\n",
              "      <td>4</td>\n",
              "      <td>1</td>\n",
              "      <td>0</td>\n",
              "      <td>0</td>\n",
              "      <td>0</td>\n",
              "      <td>0</td>\n",
              "      <td>0</td>\n",
              "      <td>0</td>\n",
              "      <td>0</td>\n",
              "      <td>1</td>\n",
              "      <td>0</td>\n",
              "      <td>0</td>\n",
              "      <td>0</td>\n",
              "      <td>0</td>\n",
              "      <td>0</td>\n",
              "      <td>1</td>\n",
              "      <td>0</td>\n",
              "      <td>0</td>\n",
              "      <td>...</td>\n",
              "      <td>11.0</td>\n",
              "      <td>0</td>\n",
              "      <td>0</td>\n",
              "      <td>0</td>\n",
              "      <td>1</td>\n",
              "      <td>0</td>\n",
              "      <td>0</td>\n",
              "      <td>0</td>\n",
              "      <td>0</td>\n",
              "      <td>0</td>\n",
              "      <td>3</td>\n",
              "      <td>1.333333</td>\n",
              "      <td>0</td>\n",
              "      <td>0</td>\n",
              "      <td>1</td>\n",
              "      <td>0</td>\n",
              "      <td>0</td>\n",
              "      <td>0</td>\n",
              "      <td>0</td>\n",
              "      <td>1</td>\n",
              "      <td>3</td>\n",
              "      <td>1</td>\n",
              "      <td>0</td>\n",
              "      <td>0</td>\n",
              "      <td>0</td>\n",
              "      <td>0</td>\n",
              "      <td>0</td>\n",
              "      <td>1</td>\n",
              "      <td>0</td>\n",
              "      <td>17</td>\n",
              "      <td>81</td>\n",
              "      <td>289</td>\n",
              "      <td>16</td>\n",
              "      <td>121</td>\n",
              "      <td>4</td>\n",
              "      <td>1.777778</td>\n",
              "      <td>1.0</td>\n",
              "      <td>121.0</td>\n",
              "      <td>289</td>\n",
              "      <td>4</td>\n",
              "    </tr>\n",
              "    <tr>\n",
              "      <th>4</th>\n",
              "      <td>ID_d56d6f5f5</td>\n",
              "      <td>180000.0</td>\n",
              "      <td>0</td>\n",
              "      <td>5</td>\n",
              "      <td>0</td>\n",
              "      <td>1</td>\n",
              "      <td>1</td>\n",
              "      <td>1</td>\n",
              "      <td>1.0</td>\n",
              "      <td>0</td>\n",
              "      <td>2</td>\n",
              "      <td>2</td>\n",
              "      <td>1</td>\n",
              "      <td>1</td>\n",
              "      <td>2</td>\n",
              "      <td>1</td>\n",
              "      <td>3</td>\n",
              "      <td>4</td>\n",
              "      <td>4</td>\n",
              "      <td>4</td>\n",
              "      <td>11</td>\n",
              "      <td>NaN</td>\n",
              "      <td>4</td>\n",
              "      <td>1</td>\n",
              "      <td>0</td>\n",
              "      <td>0</td>\n",
              "      <td>0</td>\n",
              "      <td>0</td>\n",
              "      <td>0</td>\n",
              "      <td>0</td>\n",
              "      <td>0</td>\n",
              "      <td>1</td>\n",
              "      <td>0</td>\n",
              "      <td>0</td>\n",
              "      <td>0</td>\n",
              "      <td>0</td>\n",
              "      <td>0</td>\n",
              "      <td>1</td>\n",
              "      <td>0</td>\n",
              "      <td>0</td>\n",
              "      <td>...</td>\n",
              "      <td>11.0</td>\n",
              "      <td>0</td>\n",
              "      <td>0</td>\n",
              "      <td>0</td>\n",
              "      <td>0</td>\n",
              "      <td>1</td>\n",
              "      <td>0</td>\n",
              "      <td>0</td>\n",
              "      <td>0</td>\n",
              "      <td>0</td>\n",
              "      <td>3</td>\n",
              "      <td>1.333333</td>\n",
              "      <td>0</td>\n",
              "      <td>0</td>\n",
              "      <td>1</td>\n",
              "      <td>0</td>\n",
              "      <td>0</td>\n",
              "      <td>0</td>\n",
              "      <td>0</td>\n",
              "      <td>1</td>\n",
              "      <td>3</td>\n",
              "      <td>1</td>\n",
              "      <td>0</td>\n",
              "      <td>0</td>\n",
              "      <td>0</td>\n",
              "      <td>0</td>\n",
              "      <td>0</td>\n",
              "      <td>1</td>\n",
              "      <td>0</td>\n",
              "      <td>37</td>\n",
              "      <td>121</td>\n",
              "      <td>1369</td>\n",
              "      <td>16</td>\n",
              "      <td>121</td>\n",
              "      <td>4</td>\n",
              "      <td>1.777778</td>\n",
              "      <td>1.0</td>\n",
              "      <td>121.0</td>\n",
              "      <td>1369</td>\n",
              "      <td>4</td>\n",
              "    </tr>\n",
              "  </tbody>\n",
              "</table>\n",
              "<p>5 rows × 143 columns</p>\n",
              "</div>"
            ],
            "text/plain": [
              "             Id      v2a1  hacdor  ...  SQBmeaned  agesq  Target\n",
              "0  ID_279628684  190000.0       0  ...      100.0   1849       4\n",
              "1  ID_f29eb3ddd  135000.0       0  ...      144.0   4489       4\n",
              "2  ID_68de51c94       NaN       0  ...      121.0   8464       4\n",
              "3  ID_d671db89c  180000.0       0  ...      121.0    289       4\n",
              "4  ID_d56d6f5f5  180000.0       0  ...      121.0   1369       4\n",
              "\n",
              "[5 rows x 143 columns]"
            ]
          },
          "metadata": {
            "tags": []
          },
          "execution_count": 75
        }
      ]
    },
    {
      "cell_type": "code",
      "metadata": {
        "colab": {
          "base_uri": "https://localhost:8080/"
        },
        "id": "U0KqaOznvH5w",
        "outputId": "1cf45d69-ae00-43d6-a46c-5f0ebc3fb0cf"
      },
      "source": [
        "df_income_train.info()"
      ],
      "execution_count": 76,
      "outputs": [
        {
          "output_type": "stream",
          "text": [
            "<class 'pandas.core.frame.DataFrame'>\n",
            "RangeIndex: 9557 entries, 0 to 9556\n",
            "Columns: 143 entries, Id to Target\n",
            "dtypes: float64(8), int64(130), object(5)\n",
            "memory usage: 10.4+ MB\n"
          ],
          "name": "stdout"
        }
      ]
    },
    {
      "cell_type": "markdown",
      "metadata": {
        "id": "-wdnHXXpyZoA"
      },
      "source": [
        "1.4 Explore Test dataset\n",
        "\n",
        "View first 5 records of test dataset"
      ]
    },
    {
      "cell_type": "code",
      "metadata": {
        "colab": {
          "base_uri": "https://localhost:8080/",
          "height": 251
        },
        "id": "x54BIPievKtC",
        "outputId": "0fe3c21d-4967-4cf0-c3fd-b57b5ccac319"
      },
      "source": [
        "df_income_test.head()"
      ],
      "execution_count": 77,
      "outputs": [
        {
          "output_type": "execute_result",
          "data": {
            "text/html": [
              "<div>\n",
              "<style scoped>\n",
              "    .dataframe tbody tr th:only-of-type {\n",
              "        vertical-align: middle;\n",
              "    }\n",
              "\n",
              "    .dataframe tbody tr th {\n",
              "        vertical-align: top;\n",
              "    }\n",
              "\n",
              "    .dataframe thead th {\n",
              "        text-align: right;\n",
              "    }\n",
              "</style>\n",
              "<table border=\"1\" class=\"dataframe\">\n",
              "  <thead>\n",
              "    <tr style=\"text-align: right;\">\n",
              "      <th></th>\n",
              "      <th>Id</th>\n",
              "      <th>v2a1</th>\n",
              "      <th>hacdor</th>\n",
              "      <th>rooms</th>\n",
              "      <th>hacapo</th>\n",
              "      <th>v14a</th>\n",
              "      <th>refrig</th>\n",
              "      <th>v18q</th>\n",
              "      <th>v18q1</th>\n",
              "      <th>r4h1</th>\n",
              "      <th>r4h2</th>\n",
              "      <th>r4h3</th>\n",
              "      <th>r4m1</th>\n",
              "      <th>r4m2</th>\n",
              "      <th>r4m3</th>\n",
              "      <th>r4t1</th>\n",
              "      <th>r4t2</th>\n",
              "      <th>r4t3</th>\n",
              "      <th>tamhog</th>\n",
              "      <th>tamviv</th>\n",
              "      <th>escolari</th>\n",
              "      <th>rez_esc</th>\n",
              "      <th>hhsize</th>\n",
              "      <th>paredblolad</th>\n",
              "      <th>paredzocalo</th>\n",
              "      <th>paredpreb</th>\n",
              "      <th>pareddes</th>\n",
              "      <th>paredmad</th>\n",
              "      <th>paredzinc</th>\n",
              "      <th>paredfibras</th>\n",
              "      <th>paredother</th>\n",
              "      <th>pisomoscer</th>\n",
              "      <th>pisocemento</th>\n",
              "      <th>pisoother</th>\n",
              "      <th>pisonatur</th>\n",
              "      <th>pisonotiene</th>\n",
              "      <th>pisomadera</th>\n",
              "      <th>techozinc</th>\n",
              "      <th>techoentrepiso</th>\n",
              "      <th>techocane</th>\n",
              "      <th>...</th>\n",
              "      <th>edjefa</th>\n",
              "      <th>meaneduc</th>\n",
              "      <th>instlevel1</th>\n",
              "      <th>instlevel2</th>\n",
              "      <th>instlevel3</th>\n",
              "      <th>instlevel4</th>\n",
              "      <th>instlevel5</th>\n",
              "      <th>instlevel6</th>\n",
              "      <th>instlevel7</th>\n",
              "      <th>instlevel8</th>\n",
              "      <th>instlevel9</th>\n",
              "      <th>bedrooms</th>\n",
              "      <th>overcrowding</th>\n",
              "      <th>tipovivi1</th>\n",
              "      <th>tipovivi2</th>\n",
              "      <th>tipovivi3</th>\n",
              "      <th>tipovivi4</th>\n",
              "      <th>tipovivi5</th>\n",
              "      <th>computer</th>\n",
              "      <th>television</th>\n",
              "      <th>mobilephone</th>\n",
              "      <th>qmobilephone</th>\n",
              "      <th>lugar1</th>\n",
              "      <th>lugar2</th>\n",
              "      <th>lugar3</th>\n",
              "      <th>lugar4</th>\n",
              "      <th>lugar5</th>\n",
              "      <th>lugar6</th>\n",
              "      <th>area1</th>\n",
              "      <th>area2</th>\n",
              "      <th>age</th>\n",
              "      <th>SQBescolari</th>\n",
              "      <th>SQBage</th>\n",
              "      <th>SQBhogar_total</th>\n",
              "      <th>SQBedjefe</th>\n",
              "      <th>SQBhogar_nin</th>\n",
              "      <th>SQBovercrowding</th>\n",
              "      <th>SQBdependency</th>\n",
              "      <th>SQBmeaned</th>\n",
              "      <th>agesq</th>\n",
              "    </tr>\n",
              "  </thead>\n",
              "  <tbody>\n",
              "    <tr>\n",
              "      <th>0</th>\n",
              "      <td>ID_2f6873615</td>\n",
              "      <td>NaN</td>\n",
              "      <td>0</td>\n",
              "      <td>5</td>\n",
              "      <td>0</td>\n",
              "      <td>1</td>\n",
              "      <td>1</td>\n",
              "      <td>0</td>\n",
              "      <td>NaN</td>\n",
              "      <td>1</td>\n",
              "      <td>1</td>\n",
              "      <td>2</td>\n",
              "      <td>0</td>\n",
              "      <td>1</td>\n",
              "      <td>1</td>\n",
              "      <td>1</td>\n",
              "      <td>2</td>\n",
              "      <td>3</td>\n",
              "      <td>3</td>\n",
              "      <td>3</td>\n",
              "      <td>0</td>\n",
              "      <td>NaN</td>\n",
              "      <td>3</td>\n",
              "      <td>1</td>\n",
              "      <td>0</td>\n",
              "      <td>0</td>\n",
              "      <td>0</td>\n",
              "      <td>0</td>\n",
              "      <td>0</td>\n",
              "      <td>0</td>\n",
              "      <td>0</td>\n",
              "      <td>1</td>\n",
              "      <td>0</td>\n",
              "      <td>0</td>\n",
              "      <td>0</td>\n",
              "      <td>0</td>\n",
              "      <td>0</td>\n",
              "      <td>1</td>\n",
              "      <td>0</td>\n",
              "      <td>0</td>\n",
              "      <td>...</td>\n",
              "      <td>17</td>\n",
              "      <td>16.5</td>\n",
              "      <td>1</td>\n",
              "      <td>0</td>\n",
              "      <td>0</td>\n",
              "      <td>0</td>\n",
              "      <td>0</td>\n",
              "      <td>0</td>\n",
              "      <td>0</td>\n",
              "      <td>0</td>\n",
              "      <td>0</td>\n",
              "      <td>2</td>\n",
              "      <td>1.5</td>\n",
              "      <td>1</td>\n",
              "      <td>0</td>\n",
              "      <td>0</td>\n",
              "      <td>0</td>\n",
              "      <td>0</td>\n",
              "      <td>1</td>\n",
              "      <td>0</td>\n",
              "      <td>1</td>\n",
              "      <td>2</td>\n",
              "      <td>1</td>\n",
              "      <td>0</td>\n",
              "      <td>0</td>\n",
              "      <td>0</td>\n",
              "      <td>0</td>\n",
              "      <td>0</td>\n",
              "      <td>1</td>\n",
              "      <td>0</td>\n",
              "      <td>4</td>\n",
              "      <td>0</td>\n",
              "      <td>16</td>\n",
              "      <td>9</td>\n",
              "      <td>0</td>\n",
              "      <td>1</td>\n",
              "      <td>2.25</td>\n",
              "      <td>0.25</td>\n",
              "      <td>272.25</td>\n",
              "      <td>16</td>\n",
              "    </tr>\n",
              "    <tr>\n",
              "      <th>1</th>\n",
              "      <td>ID_1c78846d2</td>\n",
              "      <td>NaN</td>\n",
              "      <td>0</td>\n",
              "      <td>5</td>\n",
              "      <td>0</td>\n",
              "      <td>1</td>\n",
              "      <td>1</td>\n",
              "      <td>0</td>\n",
              "      <td>NaN</td>\n",
              "      <td>1</td>\n",
              "      <td>1</td>\n",
              "      <td>2</td>\n",
              "      <td>0</td>\n",
              "      <td>1</td>\n",
              "      <td>1</td>\n",
              "      <td>1</td>\n",
              "      <td>2</td>\n",
              "      <td>3</td>\n",
              "      <td>3</td>\n",
              "      <td>3</td>\n",
              "      <td>16</td>\n",
              "      <td>NaN</td>\n",
              "      <td>3</td>\n",
              "      <td>1</td>\n",
              "      <td>0</td>\n",
              "      <td>0</td>\n",
              "      <td>0</td>\n",
              "      <td>0</td>\n",
              "      <td>0</td>\n",
              "      <td>0</td>\n",
              "      <td>0</td>\n",
              "      <td>1</td>\n",
              "      <td>0</td>\n",
              "      <td>0</td>\n",
              "      <td>0</td>\n",
              "      <td>0</td>\n",
              "      <td>0</td>\n",
              "      <td>1</td>\n",
              "      <td>0</td>\n",
              "      <td>0</td>\n",
              "      <td>...</td>\n",
              "      <td>17</td>\n",
              "      <td>16.5</td>\n",
              "      <td>0</td>\n",
              "      <td>0</td>\n",
              "      <td>0</td>\n",
              "      <td>0</td>\n",
              "      <td>0</td>\n",
              "      <td>0</td>\n",
              "      <td>0</td>\n",
              "      <td>1</td>\n",
              "      <td>0</td>\n",
              "      <td>2</td>\n",
              "      <td>1.5</td>\n",
              "      <td>1</td>\n",
              "      <td>0</td>\n",
              "      <td>0</td>\n",
              "      <td>0</td>\n",
              "      <td>0</td>\n",
              "      <td>1</td>\n",
              "      <td>0</td>\n",
              "      <td>1</td>\n",
              "      <td>2</td>\n",
              "      <td>1</td>\n",
              "      <td>0</td>\n",
              "      <td>0</td>\n",
              "      <td>0</td>\n",
              "      <td>0</td>\n",
              "      <td>0</td>\n",
              "      <td>1</td>\n",
              "      <td>0</td>\n",
              "      <td>41</td>\n",
              "      <td>256</td>\n",
              "      <td>1681</td>\n",
              "      <td>9</td>\n",
              "      <td>0</td>\n",
              "      <td>1</td>\n",
              "      <td>2.25</td>\n",
              "      <td>0.25</td>\n",
              "      <td>272.25</td>\n",
              "      <td>1681</td>\n",
              "    </tr>\n",
              "    <tr>\n",
              "      <th>2</th>\n",
              "      <td>ID_e5442cf6a</td>\n",
              "      <td>NaN</td>\n",
              "      <td>0</td>\n",
              "      <td>5</td>\n",
              "      <td>0</td>\n",
              "      <td>1</td>\n",
              "      <td>1</td>\n",
              "      <td>0</td>\n",
              "      <td>NaN</td>\n",
              "      <td>1</td>\n",
              "      <td>1</td>\n",
              "      <td>2</td>\n",
              "      <td>0</td>\n",
              "      <td>1</td>\n",
              "      <td>1</td>\n",
              "      <td>1</td>\n",
              "      <td>2</td>\n",
              "      <td>3</td>\n",
              "      <td>3</td>\n",
              "      <td>3</td>\n",
              "      <td>17</td>\n",
              "      <td>NaN</td>\n",
              "      <td>3</td>\n",
              "      <td>1</td>\n",
              "      <td>0</td>\n",
              "      <td>0</td>\n",
              "      <td>0</td>\n",
              "      <td>0</td>\n",
              "      <td>0</td>\n",
              "      <td>0</td>\n",
              "      <td>0</td>\n",
              "      <td>1</td>\n",
              "      <td>0</td>\n",
              "      <td>0</td>\n",
              "      <td>0</td>\n",
              "      <td>0</td>\n",
              "      <td>0</td>\n",
              "      <td>1</td>\n",
              "      <td>0</td>\n",
              "      <td>0</td>\n",
              "      <td>...</td>\n",
              "      <td>17</td>\n",
              "      <td>16.5</td>\n",
              "      <td>0</td>\n",
              "      <td>0</td>\n",
              "      <td>0</td>\n",
              "      <td>0</td>\n",
              "      <td>0</td>\n",
              "      <td>0</td>\n",
              "      <td>0</td>\n",
              "      <td>0</td>\n",
              "      <td>1</td>\n",
              "      <td>2</td>\n",
              "      <td>1.5</td>\n",
              "      <td>1</td>\n",
              "      <td>0</td>\n",
              "      <td>0</td>\n",
              "      <td>0</td>\n",
              "      <td>0</td>\n",
              "      <td>1</td>\n",
              "      <td>0</td>\n",
              "      <td>1</td>\n",
              "      <td>2</td>\n",
              "      <td>1</td>\n",
              "      <td>0</td>\n",
              "      <td>0</td>\n",
              "      <td>0</td>\n",
              "      <td>0</td>\n",
              "      <td>0</td>\n",
              "      <td>1</td>\n",
              "      <td>0</td>\n",
              "      <td>41</td>\n",
              "      <td>289</td>\n",
              "      <td>1681</td>\n",
              "      <td>9</td>\n",
              "      <td>0</td>\n",
              "      <td>1</td>\n",
              "      <td>2.25</td>\n",
              "      <td>0.25</td>\n",
              "      <td>272.25</td>\n",
              "      <td>1681</td>\n",
              "    </tr>\n",
              "    <tr>\n",
              "      <th>3</th>\n",
              "      <td>ID_a8db26a79</td>\n",
              "      <td>NaN</td>\n",
              "      <td>0</td>\n",
              "      <td>14</td>\n",
              "      <td>0</td>\n",
              "      <td>1</td>\n",
              "      <td>1</td>\n",
              "      <td>1</td>\n",
              "      <td>1.0</td>\n",
              "      <td>0</td>\n",
              "      <td>1</td>\n",
              "      <td>1</td>\n",
              "      <td>0</td>\n",
              "      <td>0</td>\n",
              "      <td>0</td>\n",
              "      <td>0</td>\n",
              "      <td>1</td>\n",
              "      <td>1</td>\n",
              "      <td>1</td>\n",
              "      <td>1</td>\n",
              "      <td>16</td>\n",
              "      <td>NaN</td>\n",
              "      <td>1</td>\n",
              "      <td>1</td>\n",
              "      <td>0</td>\n",
              "      <td>0</td>\n",
              "      <td>0</td>\n",
              "      <td>0</td>\n",
              "      <td>0</td>\n",
              "      <td>0</td>\n",
              "      <td>0</td>\n",
              "      <td>1</td>\n",
              "      <td>0</td>\n",
              "      <td>0</td>\n",
              "      <td>0</td>\n",
              "      <td>0</td>\n",
              "      <td>0</td>\n",
              "      <td>1</td>\n",
              "      <td>0</td>\n",
              "      <td>0</td>\n",
              "      <td>...</td>\n",
              "      <td>no</td>\n",
              "      <td>16.0</td>\n",
              "      <td>0</td>\n",
              "      <td>0</td>\n",
              "      <td>0</td>\n",
              "      <td>0</td>\n",
              "      <td>0</td>\n",
              "      <td>0</td>\n",
              "      <td>0</td>\n",
              "      <td>1</td>\n",
              "      <td>0</td>\n",
              "      <td>1</td>\n",
              "      <td>1.0</td>\n",
              "      <td>1</td>\n",
              "      <td>0</td>\n",
              "      <td>0</td>\n",
              "      <td>0</td>\n",
              "      <td>0</td>\n",
              "      <td>1</td>\n",
              "      <td>0</td>\n",
              "      <td>1</td>\n",
              "      <td>2</td>\n",
              "      <td>1</td>\n",
              "      <td>0</td>\n",
              "      <td>0</td>\n",
              "      <td>0</td>\n",
              "      <td>0</td>\n",
              "      <td>0</td>\n",
              "      <td>1</td>\n",
              "      <td>0</td>\n",
              "      <td>59</td>\n",
              "      <td>256</td>\n",
              "      <td>3481</td>\n",
              "      <td>1</td>\n",
              "      <td>256</td>\n",
              "      <td>0</td>\n",
              "      <td>1.00</td>\n",
              "      <td>0.00</td>\n",
              "      <td>256.00</td>\n",
              "      <td>3481</td>\n",
              "    </tr>\n",
              "    <tr>\n",
              "      <th>4</th>\n",
              "      <td>ID_a62966799</td>\n",
              "      <td>175000.0</td>\n",
              "      <td>0</td>\n",
              "      <td>4</td>\n",
              "      <td>0</td>\n",
              "      <td>1</td>\n",
              "      <td>1</td>\n",
              "      <td>1</td>\n",
              "      <td>1.0</td>\n",
              "      <td>0</td>\n",
              "      <td>0</td>\n",
              "      <td>0</td>\n",
              "      <td>0</td>\n",
              "      <td>1</td>\n",
              "      <td>1</td>\n",
              "      <td>0</td>\n",
              "      <td>1</td>\n",
              "      <td>1</td>\n",
              "      <td>1</td>\n",
              "      <td>1</td>\n",
              "      <td>11</td>\n",
              "      <td>NaN</td>\n",
              "      <td>1</td>\n",
              "      <td>1</td>\n",
              "      <td>0</td>\n",
              "      <td>0</td>\n",
              "      <td>0</td>\n",
              "      <td>0</td>\n",
              "      <td>0</td>\n",
              "      <td>0</td>\n",
              "      <td>0</td>\n",
              "      <td>1</td>\n",
              "      <td>0</td>\n",
              "      <td>0</td>\n",
              "      <td>0</td>\n",
              "      <td>0</td>\n",
              "      <td>0</td>\n",
              "      <td>1</td>\n",
              "      <td>0</td>\n",
              "      <td>0</td>\n",
              "      <td>...</td>\n",
              "      <td>11</td>\n",
              "      <td>NaN</td>\n",
              "      <td>0</td>\n",
              "      <td>0</td>\n",
              "      <td>0</td>\n",
              "      <td>0</td>\n",
              "      <td>1</td>\n",
              "      <td>0</td>\n",
              "      <td>0</td>\n",
              "      <td>0</td>\n",
              "      <td>0</td>\n",
              "      <td>2</td>\n",
              "      <td>0.5</td>\n",
              "      <td>0</td>\n",
              "      <td>0</td>\n",
              "      <td>1</td>\n",
              "      <td>0</td>\n",
              "      <td>0</td>\n",
              "      <td>0</td>\n",
              "      <td>0</td>\n",
              "      <td>1</td>\n",
              "      <td>1</td>\n",
              "      <td>1</td>\n",
              "      <td>0</td>\n",
              "      <td>0</td>\n",
              "      <td>0</td>\n",
              "      <td>0</td>\n",
              "      <td>0</td>\n",
              "      <td>1</td>\n",
              "      <td>0</td>\n",
              "      <td>18</td>\n",
              "      <td>121</td>\n",
              "      <td>324</td>\n",
              "      <td>1</td>\n",
              "      <td>0</td>\n",
              "      <td>1</td>\n",
              "      <td>0.25</td>\n",
              "      <td>64.00</td>\n",
              "      <td>NaN</td>\n",
              "      <td>324</td>\n",
              "    </tr>\n",
              "  </tbody>\n",
              "</table>\n",
              "<p>5 rows × 142 columns</p>\n",
              "</div>"
            ],
            "text/plain": [
              "             Id      v2a1  hacdor  ...  SQBdependency  SQBmeaned  agesq\n",
              "0  ID_2f6873615       NaN       0  ...           0.25     272.25     16\n",
              "1  ID_1c78846d2       NaN       0  ...           0.25     272.25   1681\n",
              "2  ID_e5442cf6a       NaN       0  ...           0.25     272.25   1681\n",
              "3  ID_a8db26a79       NaN       0  ...           0.00     256.00   3481\n",
              "4  ID_a62966799  175000.0       0  ...          64.00        NaN    324\n",
              "\n",
              "[5 rows x 142 columns]"
            ]
          },
          "metadata": {
            "tags": []
          },
          "execution_count": 77
        }
      ]
    },
    {
      "cell_type": "code",
      "metadata": {
        "colab": {
          "base_uri": "https://localhost:8080/"
        },
        "id": "c9PuKOc7vPnY",
        "outputId": "ae199983-daed-48a9-cb9f-a2ca8be8698b"
      },
      "source": [
        "df_income_test.info()"
      ],
      "execution_count": 78,
      "outputs": [
        {
          "output_type": "stream",
          "text": [
            "<class 'pandas.core.frame.DataFrame'>\n",
            "RangeIndex: 23856 entries, 0 to 23855\n",
            "Columns: 142 entries, Id to agesq\n",
            "dtypes: float64(8), int64(129), object(5)\n",
            "memory usage: 25.8+ MB\n"
          ],
          "name": "stdout"
        }
      ]
    },
    {
      "cell_type": "markdown",
      "metadata": {
        "id": "gC_vEioCyoAh"
      },
      "source": [
        "Looking at the train and test dataset we noticed that the following:\n",
        "\n",
        "\n",
        "Train dataset:\n",
        "\n",
        "\n",
        "Rows: 9557 entries, 0 to 9556\n",
        "Columns: 143 entries, Id to Target\n",
        "Column dtypes: float64(8), int64(130), object(5)\n",
        "\n",
        "Test dataset:\n",
        "Rows: 23856 entries, 0 to 23855\n",
        "Columns: 142 entries, Id to agesq\n",
        "dtypes: float64(8), int64(129), object(5)\n",
        "\n",
        "The important piece of information here is that we don’t have ‘Target’ feature in Test Dataset. There are 5 object type, 130(Train set)/ 129 (test set) integer type and 8 float type features."
      ]
    },
    {
      "cell_type": "code",
      "metadata": {
        "colab": {
          "base_uri": "https://localhost:8080/"
        },
        "id": "Cg19wWwKvmps",
        "outputId": "88aa5cf8-4c6e-4f4f-cd81-2a42ee041880"
      },
      "source": [
        "#List the columns for different datatypes:\n",
        "print('Integer Type: ')\n",
        "print(df_income_train.select_dtypes(np.int64).columns)\n",
        "print('\\n')\n",
        "print('Float Type: ')\n",
        "print(df_income_train.select_dtypes(np.float64).columns)\n",
        "print('\\n')\n",
        "print('Object Type: ')\n",
        "print(df_income_train.select_dtypes(np.object).columns)"
      ],
      "execution_count": 79,
      "outputs": [
        {
          "output_type": "stream",
          "text": [
            "Integer Type: \n",
            "Index(['hacdor', 'rooms', 'hacapo', 'v14a', 'refrig', 'v18q', 'r4h1', 'r4h2',\n",
            "       'r4h3', 'r4m1',\n",
            "       ...\n",
            "       'area1', 'area2', 'age', 'SQBescolari', 'SQBage', 'SQBhogar_total',\n",
            "       'SQBedjefe', 'SQBhogar_nin', 'agesq', 'Target'],\n",
            "      dtype='object', length=130)\n",
            "\n",
            "\n",
            "Float Type: \n",
            "Index(['v2a1', 'v18q1', 'rez_esc', 'meaneduc', 'overcrowding',\n",
            "       'SQBovercrowding', 'SQBdependency', 'SQBmeaned'],\n",
            "      dtype='object')\n",
            "\n",
            "\n",
            "Object Type: \n",
            "Index(['Id', 'idhogar', 'dependency', 'edjefe', 'edjefa'], dtype='object')\n"
          ],
          "name": "stdout"
        }
      ]
    },
    {
      "cell_type": "code",
      "metadata": {
        "colab": {
          "base_uri": "https://localhost:8080/",
          "height": 251
        },
        "id": "Os6I_clrvtnq",
        "outputId": "baa20247-9494-4ad8-e94a-4d97e09ae140"
      },
      "source": [
        "df_income_train.select_dtypes('int64').head()"
      ],
      "execution_count": 80,
      "outputs": [
        {
          "output_type": "execute_result",
          "data": {
            "text/html": [
              "<div>\n",
              "<style scoped>\n",
              "    .dataframe tbody tr th:only-of-type {\n",
              "        vertical-align: middle;\n",
              "    }\n",
              "\n",
              "    .dataframe tbody tr th {\n",
              "        vertical-align: top;\n",
              "    }\n",
              "\n",
              "    .dataframe thead th {\n",
              "        text-align: right;\n",
              "    }\n",
              "</style>\n",
              "<table border=\"1\" class=\"dataframe\">\n",
              "  <thead>\n",
              "    <tr style=\"text-align: right;\">\n",
              "      <th></th>\n",
              "      <th>hacdor</th>\n",
              "      <th>rooms</th>\n",
              "      <th>hacapo</th>\n",
              "      <th>v14a</th>\n",
              "      <th>refrig</th>\n",
              "      <th>v18q</th>\n",
              "      <th>r4h1</th>\n",
              "      <th>r4h2</th>\n",
              "      <th>r4h3</th>\n",
              "      <th>r4m1</th>\n",
              "      <th>r4m2</th>\n",
              "      <th>r4m3</th>\n",
              "      <th>r4t1</th>\n",
              "      <th>r4t2</th>\n",
              "      <th>r4t3</th>\n",
              "      <th>tamhog</th>\n",
              "      <th>tamviv</th>\n",
              "      <th>escolari</th>\n",
              "      <th>hhsize</th>\n",
              "      <th>paredblolad</th>\n",
              "      <th>paredzocalo</th>\n",
              "      <th>paredpreb</th>\n",
              "      <th>pareddes</th>\n",
              "      <th>paredmad</th>\n",
              "      <th>paredzinc</th>\n",
              "      <th>paredfibras</th>\n",
              "      <th>paredother</th>\n",
              "      <th>pisomoscer</th>\n",
              "      <th>pisocemento</th>\n",
              "      <th>pisoother</th>\n",
              "      <th>pisonatur</th>\n",
              "      <th>pisonotiene</th>\n",
              "      <th>pisomadera</th>\n",
              "      <th>techozinc</th>\n",
              "      <th>techoentrepiso</th>\n",
              "      <th>techocane</th>\n",
              "      <th>techootro</th>\n",
              "      <th>cielorazo</th>\n",
              "      <th>abastaguadentro</th>\n",
              "      <th>abastaguafuera</th>\n",
              "      <th>...</th>\n",
              "      <th>parentesco12</th>\n",
              "      <th>hogar_nin</th>\n",
              "      <th>hogar_adul</th>\n",
              "      <th>hogar_mayor</th>\n",
              "      <th>hogar_total</th>\n",
              "      <th>instlevel1</th>\n",
              "      <th>instlevel2</th>\n",
              "      <th>instlevel3</th>\n",
              "      <th>instlevel4</th>\n",
              "      <th>instlevel5</th>\n",
              "      <th>instlevel6</th>\n",
              "      <th>instlevel7</th>\n",
              "      <th>instlevel8</th>\n",
              "      <th>instlevel9</th>\n",
              "      <th>bedrooms</th>\n",
              "      <th>tipovivi1</th>\n",
              "      <th>tipovivi2</th>\n",
              "      <th>tipovivi3</th>\n",
              "      <th>tipovivi4</th>\n",
              "      <th>tipovivi5</th>\n",
              "      <th>computer</th>\n",
              "      <th>television</th>\n",
              "      <th>mobilephone</th>\n",
              "      <th>qmobilephone</th>\n",
              "      <th>lugar1</th>\n",
              "      <th>lugar2</th>\n",
              "      <th>lugar3</th>\n",
              "      <th>lugar4</th>\n",
              "      <th>lugar5</th>\n",
              "      <th>lugar6</th>\n",
              "      <th>area1</th>\n",
              "      <th>area2</th>\n",
              "      <th>age</th>\n",
              "      <th>SQBescolari</th>\n",
              "      <th>SQBage</th>\n",
              "      <th>SQBhogar_total</th>\n",
              "      <th>SQBedjefe</th>\n",
              "      <th>SQBhogar_nin</th>\n",
              "      <th>agesq</th>\n",
              "      <th>Target</th>\n",
              "    </tr>\n",
              "  </thead>\n",
              "  <tbody>\n",
              "    <tr>\n",
              "      <th>0</th>\n",
              "      <td>0</td>\n",
              "      <td>3</td>\n",
              "      <td>0</td>\n",
              "      <td>1</td>\n",
              "      <td>1</td>\n",
              "      <td>0</td>\n",
              "      <td>0</td>\n",
              "      <td>1</td>\n",
              "      <td>1</td>\n",
              "      <td>0</td>\n",
              "      <td>0</td>\n",
              "      <td>0</td>\n",
              "      <td>0</td>\n",
              "      <td>1</td>\n",
              "      <td>1</td>\n",
              "      <td>1</td>\n",
              "      <td>1</td>\n",
              "      <td>10</td>\n",
              "      <td>1</td>\n",
              "      <td>1</td>\n",
              "      <td>0</td>\n",
              "      <td>0</td>\n",
              "      <td>0</td>\n",
              "      <td>0</td>\n",
              "      <td>0</td>\n",
              "      <td>0</td>\n",
              "      <td>0</td>\n",
              "      <td>1</td>\n",
              "      <td>0</td>\n",
              "      <td>0</td>\n",
              "      <td>0</td>\n",
              "      <td>0</td>\n",
              "      <td>0</td>\n",
              "      <td>0</td>\n",
              "      <td>1</td>\n",
              "      <td>0</td>\n",
              "      <td>0</td>\n",
              "      <td>1</td>\n",
              "      <td>1</td>\n",
              "      <td>0</td>\n",
              "      <td>...</td>\n",
              "      <td>0</td>\n",
              "      <td>0</td>\n",
              "      <td>1</td>\n",
              "      <td>0</td>\n",
              "      <td>1</td>\n",
              "      <td>0</td>\n",
              "      <td>0</td>\n",
              "      <td>0</td>\n",
              "      <td>1</td>\n",
              "      <td>0</td>\n",
              "      <td>0</td>\n",
              "      <td>0</td>\n",
              "      <td>0</td>\n",
              "      <td>0</td>\n",
              "      <td>1</td>\n",
              "      <td>0</td>\n",
              "      <td>0</td>\n",
              "      <td>1</td>\n",
              "      <td>0</td>\n",
              "      <td>0</td>\n",
              "      <td>0</td>\n",
              "      <td>0</td>\n",
              "      <td>1</td>\n",
              "      <td>1</td>\n",
              "      <td>1</td>\n",
              "      <td>0</td>\n",
              "      <td>0</td>\n",
              "      <td>0</td>\n",
              "      <td>0</td>\n",
              "      <td>0</td>\n",
              "      <td>1</td>\n",
              "      <td>0</td>\n",
              "      <td>43</td>\n",
              "      <td>100</td>\n",
              "      <td>1849</td>\n",
              "      <td>1</td>\n",
              "      <td>100</td>\n",
              "      <td>0</td>\n",
              "      <td>1849</td>\n",
              "      <td>4</td>\n",
              "    </tr>\n",
              "    <tr>\n",
              "      <th>1</th>\n",
              "      <td>0</td>\n",
              "      <td>4</td>\n",
              "      <td>0</td>\n",
              "      <td>1</td>\n",
              "      <td>1</td>\n",
              "      <td>1</td>\n",
              "      <td>0</td>\n",
              "      <td>1</td>\n",
              "      <td>1</td>\n",
              "      <td>0</td>\n",
              "      <td>0</td>\n",
              "      <td>0</td>\n",
              "      <td>0</td>\n",
              "      <td>1</td>\n",
              "      <td>1</td>\n",
              "      <td>1</td>\n",
              "      <td>1</td>\n",
              "      <td>12</td>\n",
              "      <td>1</td>\n",
              "      <td>0</td>\n",
              "      <td>0</td>\n",
              "      <td>0</td>\n",
              "      <td>0</td>\n",
              "      <td>1</td>\n",
              "      <td>0</td>\n",
              "      <td>0</td>\n",
              "      <td>0</td>\n",
              "      <td>0</td>\n",
              "      <td>0</td>\n",
              "      <td>0</td>\n",
              "      <td>0</td>\n",
              "      <td>0</td>\n",
              "      <td>1</td>\n",
              "      <td>1</td>\n",
              "      <td>0</td>\n",
              "      <td>0</td>\n",
              "      <td>0</td>\n",
              "      <td>1</td>\n",
              "      <td>1</td>\n",
              "      <td>0</td>\n",
              "      <td>...</td>\n",
              "      <td>0</td>\n",
              "      <td>0</td>\n",
              "      <td>1</td>\n",
              "      <td>1</td>\n",
              "      <td>1</td>\n",
              "      <td>0</td>\n",
              "      <td>0</td>\n",
              "      <td>0</td>\n",
              "      <td>0</td>\n",
              "      <td>0</td>\n",
              "      <td>0</td>\n",
              "      <td>0</td>\n",
              "      <td>1</td>\n",
              "      <td>0</td>\n",
              "      <td>1</td>\n",
              "      <td>0</td>\n",
              "      <td>0</td>\n",
              "      <td>1</td>\n",
              "      <td>0</td>\n",
              "      <td>0</td>\n",
              "      <td>0</td>\n",
              "      <td>0</td>\n",
              "      <td>1</td>\n",
              "      <td>1</td>\n",
              "      <td>1</td>\n",
              "      <td>0</td>\n",
              "      <td>0</td>\n",
              "      <td>0</td>\n",
              "      <td>0</td>\n",
              "      <td>0</td>\n",
              "      <td>1</td>\n",
              "      <td>0</td>\n",
              "      <td>67</td>\n",
              "      <td>144</td>\n",
              "      <td>4489</td>\n",
              "      <td>1</td>\n",
              "      <td>144</td>\n",
              "      <td>0</td>\n",
              "      <td>4489</td>\n",
              "      <td>4</td>\n",
              "    </tr>\n",
              "    <tr>\n",
              "      <th>2</th>\n",
              "      <td>0</td>\n",
              "      <td>8</td>\n",
              "      <td>0</td>\n",
              "      <td>1</td>\n",
              "      <td>1</td>\n",
              "      <td>0</td>\n",
              "      <td>0</td>\n",
              "      <td>0</td>\n",
              "      <td>0</td>\n",
              "      <td>0</td>\n",
              "      <td>1</td>\n",
              "      <td>1</td>\n",
              "      <td>0</td>\n",
              "      <td>1</td>\n",
              "      <td>1</td>\n",
              "      <td>1</td>\n",
              "      <td>1</td>\n",
              "      <td>11</td>\n",
              "      <td>1</td>\n",
              "      <td>0</td>\n",
              "      <td>0</td>\n",
              "      <td>0</td>\n",
              "      <td>0</td>\n",
              "      <td>1</td>\n",
              "      <td>0</td>\n",
              "      <td>0</td>\n",
              "      <td>0</td>\n",
              "      <td>1</td>\n",
              "      <td>0</td>\n",
              "      <td>0</td>\n",
              "      <td>0</td>\n",
              "      <td>0</td>\n",
              "      <td>0</td>\n",
              "      <td>1</td>\n",
              "      <td>0</td>\n",
              "      <td>0</td>\n",
              "      <td>0</td>\n",
              "      <td>1</td>\n",
              "      <td>1</td>\n",
              "      <td>0</td>\n",
              "      <td>...</td>\n",
              "      <td>0</td>\n",
              "      <td>0</td>\n",
              "      <td>1</td>\n",
              "      <td>1</td>\n",
              "      <td>1</td>\n",
              "      <td>0</td>\n",
              "      <td>0</td>\n",
              "      <td>0</td>\n",
              "      <td>0</td>\n",
              "      <td>1</td>\n",
              "      <td>0</td>\n",
              "      <td>0</td>\n",
              "      <td>0</td>\n",
              "      <td>0</td>\n",
              "      <td>2</td>\n",
              "      <td>1</td>\n",
              "      <td>0</td>\n",
              "      <td>0</td>\n",
              "      <td>0</td>\n",
              "      <td>0</td>\n",
              "      <td>0</td>\n",
              "      <td>0</td>\n",
              "      <td>0</td>\n",
              "      <td>0</td>\n",
              "      <td>1</td>\n",
              "      <td>0</td>\n",
              "      <td>0</td>\n",
              "      <td>0</td>\n",
              "      <td>0</td>\n",
              "      <td>0</td>\n",
              "      <td>1</td>\n",
              "      <td>0</td>\n",
              "      <td>92</td>\n",
              "      <td>121</td>\n",
              "      <td>8464</td>\n",
              "      <td>1</td>\n",
              "      <td>0</td>\n",
              "      <td>0</td>\n",
              "      <td>8464</td>\n",
              "      <td>4</td>\n",
              "    </tr>\n",
              "    <tr>\n",
              "      <th>3</th>\n",
              "      <td>0</td>\n",
              "      <td>5</td>\n",
              "      <td>0</td>\n",
              "      <td>1</td>\n",
              "      <td>1</td>\n",
              "      <td>1</td>\n",
              "      <td>0</td>\n",
              "      <td>2</td>\n",
              "      <td>2</td>\n",
              "      <td>1</td>\n",
              "      <td>1</td>\n",
              "      <td>2</td>\n",
              "      <td>1</td>\n",
              "      <td>3</td>\n",
              "      <td>4</td>\n",
              "      <td>4</td>\n",
              "      <td>4</td>\n",
              "      <td>9</td>\n",
              "      <td>4</td>\n",
              "      <td>1</td>\n",
              "      <td>0</td>\n",
              "      <td>0</td>\n",
              "      <td>0</td>\n",
              "      <td>0</td>\n",
              "      <td>0</td>\n",
              "      <td>0</td>\n",
              "      <td>0</td>\n",
              "      <td>1</td>\n",
              "      <td>0</td>\n",
              "      <td>0</td>\n",
              "      <td>0</td>\n",
              "      <td>0</td>\n",
              "      <td>0</td>\n",
              "      <td>1</td>\n",
              "      <td>0</td>\n",
              "      <td>0</td>\n",
              "      <td>0</td>\n",
              "      <td>1</td>\n",
              "      <td>1</td>\n",
              "      <td>0</td>\n",
              "      <td>...</td>\n",
              "      <td>0</td>\n",
              "      <td>2</td>\n",
              "      <td>2</td>\n",
              "      <td>0</td>\n",
              "      <td>4</td>\n",
              "      <td>0</td>\n",
              "      <td>0</td>\n",
              "      <td>0</td>\n",
              "      <td>1</td>\n",
              "      <td>0</td>\n",
              "      <td>0</td>\n",
              "      <td>0</td>\n",
              "      <td>0</td>\n",
              "      <td>0</td>\n",
              "      <td>3</td>\n",
              "      <td>0</td>\n",
              "      <td>0</td>\n",
              "      <td>1</td>\n",
              "      <td>0</td>\n",
              "      <td>0</td>\n",
              "      <td>0</td>\n",
              "      <td>0</td>\n",
              "      <td>1</td>\n",
              "      <td>3</td>\n",
              "      <td>1</td>\n",
              "      <td>0</td>\n",
              "      <td>0</td>\n",
              "      <td>0</td>\n",
              "      <td>0</td>\n",
              "      <td>0</td>\n",
              "      <td>1</td>\n",
              "      <td>0</td>\n",
              "      <td>17</td>\n",
              "      <td>81</td>\n",
              "      <td>289</td>\n",
              "      <td>16</td>\n",
              "      <td>121</td>\n",
              "      <td>4</td>\n",
              "      <td>289</td>\n",
              "      <td>4</td>\n",
              "    </tr>\n",
              "    <tr>\n",
              "      <th>4</th>\n",
              "      <td>0</td>\n",
              "      <td>5</td>\n",
              "      <td>0</td>\n",
              "      <td>1</td>\n",
              "      <td>1</td>\n",
              "      <td>1</td>\n",
              "      <td>0</td>\n",
              "      <td>2</td>\n",
              "      <td>2</td>\n",
              "      <td>1</td>\n",
              "      <td>1</td>\n",
              "      <td>2</td>\n",
              "      <td>1</td>\n",
              "      <td>3</td>\n",
              "      <td>4</td>\n",
              "      <td>4</td>\n",
              "      <td>4</td>\n",
              "      <td>11</td>\n",
              "      <td>4</td>\n",
              "      <td>1</td>\n",
              "      <td>0</td>\n",
              "      <td>0</td>\n",
              "      <td>0</td>\n",
              "      <td>0</td>\n",
              "      <td>0</td>\n",
              "      <td>0</td>\n",
              "      <td>0</td>\n",
              "      <td>1</td>\n",
              "      <td>0</td>\n",
              "      <td>0</td>\n",
              "      <td>0</td>\n",
              "      <td>0</td>\n",
              "      <td>0</td>\n",
              "      <td>1</td>\n",
              "      <td>0</td>\n",
              "      <td>0</td>\n",
              "      <td>0</td>\n",
              "      <td>1</td>\n",
              "      <td>1</td>\n",
              "      <td>0</td>\n",
              "      <td>...</td>\n",
              "      <td>0</td>\n",
              "      <td>2</td>\n",
              "      <td>2</td>\n",
              "      <td>0</td>\n",
              "      <td>4</td>\n",
              "      <td>0</td>\n",
              "      <td>0</td>\n",
              "      <td>0</td>\n",
              "      <td>0</td>\n",
              "      <td>1</td>\n",
              "      <td>0</td>\n",
              "      <td>0</td>\n",
              "      <td>0</td>\n",
              "      <td>0</td>\n",
              "      <td>3</td>\n",
              "      <td>0</td>\n",
              "      <td>0</td>\n",
              "      <td>1</td>\n",
              "      <td>0</td>\n",
              "      <td>0</td>\n",
              "      <td>0</td>\n",
              "      <td>0</td>\n",
              "      <td>1</td>\n",
              "      <td>3</td>\n",
              "      <td>1</td>\n",
              "      <td>0</td>\n",
              "      <td>0</td>\n",
              "      <td>0</td>\n",
              "      <td>0</td>\n",
              "      <td>0</td>\n",
              "      <td>1</td>\n",
              "      <td>0</td>\n",
              "      <td>37</td>\n",
              "      <td>121</td>\n",
              "      <td>1369</td>\n",
              "      <td>16</td>\n",
              "      <td>121</td>\n",
              "      <td>4</td>\n",
              "      <td>1369</td>\n",
              "      <td>4</td>\n",
              "    </tr>\n",
              "  </tbody>\n",
              "</table>\n",
              "<p>5 rows × 130 columns</p>\n",
              "</div>"
            ],
            "text/plain": [
              "   hacdor  rooms  hacapo  v14a  ...  SQBedjefe  SQBhogar_nin  agesq  Target\n",
              "0       0      3       0     1  ...        100             0   1849       4\n",
              "1       0      4       0     1  ...        144             0   4489       4\n",
              "2       0      8       0     1  ...          0             0   8464       4\n",
              "3       0      5       0     1  ...        121             4    289       4\n",
              "4       0      5       0     1  ...        121             4   1369       4\n",
              "\n",
              "[5 rows x 130 columns]"
            ]
          },
          "metadata": {
            "tags": []
          },
          "execution_count": 80
        }
      ]
    },
    {
      "cell_type": "markdown",
      "metadata": {
        "id": "iRBjY2qPy0L6"
      },
      "source": [
        "1.5 Find columns with null values"
      ]
    },
    {
      "cell_type": "code",
      "metadata": {
        "colab": {
          "base_uri": "https://localhost:8080/"
        },
        "id": "uUr0-RcBvyHk",
        "outputId": "892fc375-295c-43cb-c40d-4a4f5441028d"
      },
      "source": [
        "#Find columns with null values\n",
        "null_counts=df_income_train.select_dtypes('int64').isnull().sum()\n",
        "null_counts[null_counts > 0]"
      ],
      "execution_count": 81,
      "outputs": [
        {
          "output_type": "execute_result",
          "data": {
            "text/plain": [
              "Series([], dtype: int64)"
            ]
          },
          "metadata": {
            "tags": []
          },
          "execution_count": 81
        }
      ]
    },
    {
      "cell_type": "code",
      "metadata": {
        "colab": {
          "base_uri": "https://localhost:8080/",
          "height": 202
        },
        "id": "LnwGnh0Av01d",
        "outputId": "058fc28d-c01b-4205-eefe-26ea40cb55f3"
      },
      "source": [
        "df_income_train.select_dtypes('float64').head()"
      ],
      "execution_count": 82,
      "outputs": [
        {
          "output_type": "execute_result",
          "data": {
            "text/html": [
              "<div>\n",
              "<style scoped>\n",
              "    .dataframe tbody tr th:only-of-type {\n",
              "        vertical-align: middle;\n",
              "    }\n",
              "\n",
              "    .dataframe tbody tr th {\n",
              "        vertical-align: top;\n",
              "    }\n",
              "\n",
              "    .dataframe thead th {\n",
              "        text-align: right;\n",
              "    }\n",
              "</style>\n",
              "<table border=\"1\" class=\"dataframe\">\n",
              "  <thead>\n",
              "    <tr style=\"text-align: right;\">\n",
              "      <th></th>\n",
              "      <th>v2a1</th>\n",
              "      <th>v18q1</th>\n",
              "      <th>rez_esc</th>\n",
              "      <th>meaneduc</th>\n",
              "      <th>overcrowding</th>\n",
              "      <th>SQBovercrowding</th>\n",
              "      <th>SQBdependency</th>\n",
              "      <th>SQBmeaned</th>\n",
              "    </tr>\n",
              "  </thead>\n",
              "  <tbody>\n",
              "    <tr>\n",
              "      <th>0</th>\n",
              "      <td>190000.0</td>\n",
              "      <td>NaN</td>\n",
              "      <td>NaN</td>\n",
              "      <td>10.0</td>\n",
              "      <td>1.000000</td>\n",
              "      <td>1.000000</td>\n",
              "      <td>0.0</td>\n",
              "      <td>100.0</td>\n",
              "    </tr>\n",
              "    <tr>\n",
              "      <th>1</th>\n",
              "      <td>135000.0</td>\n",
              "      <td>1.0</td>\n",
              "      <td>NaN</td>\n",
              "      <td>12.0</td>\n",
              "      <td>1.000000</td>\n",
              "      <td>1.000000</td>\n",
              "      <td>64.0</td>\n",
              "      <td>144.0</td>\n",
              "    </tr>\n",
              "    <tr>\n",
              "      <th>2</th>\n",
              "      <td>NaN</td>\n",
              "      <td>NaN</td>\n",
              "      <td>NaN</td>\n",
              "      <td>11.0</td>\n",
              "      <td>0.500000</td>\n",
              "      <td>0.250000</td>\n",
              "      <td>64.0</td>\n",
              "      <td>121.0</td>\n",
              "    </tr>\n",
              "    <tr>\n",
              "      <th>3</th>\n",
              "      <td>180000.0</td>\n",
              "      <td>1.0</td>\n",
              "      <td>1.0</td>\n",
              "      <td>11.0</td>\n",
              "      <td>1.333333</td>\n",
              "      <td>1.777778</td>\n",
              "      <td>1.0</td>\n",
              "      <td>121.0</td>\n",
              "    </tr>\n",
              "    <tr>\n",
              "      <th>4</th>\n",
              "      <td>180000.0</td>\n",
              "      <td>1.0</td>\n",
              "      <td>NaN</td>\n",
              "      <td>11.0</td>\n",
              "      <td>1.333333</td>\n",
              "      <td>1.777778</td>\n",
              "      <td>1.0</td>\n",
              "      <td>121.0</td>\n",
              "    </tr>\n",
              "  </tbody>\n",
              "</table>\n",
              "</div>"
            ],
            "text/plain": [
              "       v2a1  v18q1  rez_esc  ...  SQBovercrowding  SQBdependency  SQBmeaned\n",
              "0  190000.0    NaN      NaN  ...         1.000000            0.0      100.0\n",
              "1  135000.0    1.0      NaN  ...         1.000000           64.0      144.0\n",
              "2       NaN    NaN      NaN  ...         0.250000           64.0      121.0\n",
              "3  180000.0    1.0      1.0  ...         1.777778            1.0      121.0\n",
              "4  180000.0    1.0      NaN  ...         1.777778            1.0      121.0\n",
              "\n",
              "[5 rows x 8 columns]"
            ]
          },
          "metadata": {
            "tags": []
          },
          "execution_count": 82
        }
      ]
    },
    {
      "cell_type": "code",
      "metadata": {
        "colab": {
          "base_uri": "https://localhost:8080/"
        },
        "id": "Yoglqegjv3_7",
        "outputId": "ce47bc6f-30bb-4b1d-e012-b7da15060be5"
      },
      "source": [
        "#Find columns with null values\n",
        "null_counts=df_income_train.select_dtypes('float64').isnull().sum()\n",
        "null_counts[null_counts > 0]"
      ],
      "execution_count": 83,
      "outputs": [
        {
          "output_type": "execute_result",
          "data": {
            "text/plain": [
              "v2a1         6860\n",
              "v18q1        7342\n",
              "rez_esc      7928\n",
              "meaneduc        5\n",
              "SQBmeaned       5\n",
              "dtype: int64"
            ]
          },
          "metadata": {
            "tags": []
          },
          "execution_count": 83
        }
      ]
    },
    {
      "cell_type": "code",
      "metadata": {
        "colab": {
          "base_uri": "https://localhost:8080/",
          "height": 202
        },
        "id": "qXi_3pkGv4u9",
        "outputId": "b7f778c4-2988-4bd0-f0db-3e4fadf52325"
      },
      "source": [
        "df_income_train.select_dtypes('object').head()"
      ],
      "execution_count": 84,
      "outputs": [
        {
          "output_type": "execute_result",
          "data": {
            "text/html": [
              "<div>\n",
              "<style scoped>\n",
              "    .dataframe tbody tr th:only-of-type {\n",
              "        vertical-align: middle;\n",
              "    }\n",
              "\n",
              "    .dataframe tbody tr th {\n",
              "        vertical-align: top;\n",
              "    }\n",
              "\n",
              "    .dataframe thead th {\n",
              "        text-align: right;\n",
              "    }\n",
              "</style>\n",
              "<table border=\"1\" class=\"dataframe\">\n",
              "  <thead>\n",
              "    <tr style=\"text-align: right;\">\n",
              "      <th></th>\n",
              "      <th>Id</th>\n",
              "      <th>idhogar</th>\n",
              "      <th>dependency</th>\n",
              "      <th>edjefe</th>\n",
              "      <th>edjefa</th>\n",
              "    </tr>\n",
              "  </thead>\n",
              "  <tbody>\n",
              "    <tr>\n",
              "      <th>0</th>\n",
              "      <td>ID_279628684</td>\n",
              "      <td>21eb7fcc1</td>\n",
              "      <td>no</td>\n",
              "      <td>10</td>\n",
              "      <td>no</td>\n",
              "    </tr>\n",
              "    <tr>\n",
              "      <th>1</th>\n",
              "      <td>ID_f29eb3ddd</td>\n",
              "      <td>0e5d7a658</td>\n",
              "      <td>8</td>\n",
              "      <td>12</td>\n",
              "      <td>no</td>\n",
              "    </tr>\n",
              "    <tr>\n",
              "      <th>2</th>\n",
              "      <td>ID_68de51c94</td>\n",
              "      <td>2c7317ea8</td>\n",
              "      <td>8</td>\n",
              "      <td>no</td>\n",
              "      <td>11</td>\n",
              "    </tr>\n",
              "    <tr>\n",
              "      <th>3</th>\n",
              "      <td>ID_d671db89c</td>\n",
              "      <td>2b58d945f</td>\n",
              "      <td>yes</td>\n",
              "      <td>11</td>\n",
              "      <td>no</td>\n",
              "    </tr>\n",
              "    <tr>\n",
              "      <th>4</th>\n",
              "      <td>ID_d56d6f5f5</td>\n",
              "      <td>2b58d945f</td>\n",
              "      <td>yes</td>\n",
              "      <td>11</td>\n",
              "      <td>no</td>\n",
              "    </tr>\n",
              "  </tbody>\n",
              "</table>\n",
              "</div>"
            ],
            "text/plain": [
              "             Id    idhogar dependency edjefe edjefa\n",
              "0  ID_279628684  21eb7fcc1         no     10     no\n",
              "1  ID_f29eb3ddd  0e5d7a658          8     12     no\n",
              "2  ID_68de51c94  2c7317ea8          8     no     11\n",
              "3  ID_d671db89c  2b58d945f        yes     11     no\n",
              "4  ID_d56d6f5f5  2b58d945f        yes     11     no"
            ]
          },
          "metadata": {
            "tags": []
          },
          "execution_count": 84
        }
      ]
    },
    {
      "cell_type": "code",
      "metadata": {
        "colab": {
          "base_uri": "https://localhost:8080/"
        },
        "id": "FIBDjnSWv8Ui",
        "outputId": "8b70d746-0053-49a7-e9f1-81dde26152ad"
      },
      "source": [
        "#Find columns with null values\n",
        "null_counts=df_income_train.select_dtypes('object').isnull().sum()\n",
        "null_counts[null_counts > 0]"
      ],
      "execution_count": 85,
      "outputs": [
        {
          "output_type": "execute_result",
          "data": {
            "text/plain": [
              "Series([], dtype: int64)"
            ]
          },
          "metadata": {
            "tags": []
          },
          "execution_count": 85
        }
      ]
    },
    {
      "cell_type": "markdown",
      "metadata": {
        "id": "cvqFpuOSzBVV"
      },
      "source": [
        "Looking at the different types of data and null values for each feature.\n",
        "\n",
        "We found the following: \n",
        "\n",
        "1. No null values for Integer type features.\n",
        "2. No null values Object types for  features. \n",
        "3. For float type v2a1 6860 v18q1 7342 rez_esc 7928 meaneduc 5 SQBmeaned 5"
      ]
    },
    {
      "cell_type": "markdown",
      "metadata": {
        "id": "0Ix46U9IzWew"
      },
      "source": [
        "3.1 Lets fix the column with mixed values.\n",
        "\n",
        "According to the documentation for these columns:\n",
        "\n",
        "dependency: Dependency rate, calculated = (number of members of the household younger than 19 or older than 64)/(number of member of household between 19 and 64)\n",
        "\n",
        "edjefe: years of education of male head of household, based on the interaction of escolari (years of education), head of household and gender, yes=1 and no=0\n",
        "\n",
        "edjefa: years of education of female head of household, based on the interaction of escolari (years of education), head of household and gender, yes=1 and no=0\n",
        "\n",
        "For these three variables, it seems “yes” = 1 and “no” = 0. We can correct the variables using a mapping and convert to floats."
      ]
    },
    {
      "cell_type": "code",
      "metadata": {
        "colab": {
          "base_uri": "https://localhost:8080/",
          "height": 294
        },
        "id": "Zujxz04Lv_Kk",
        "outputId": "82309f72-2f33-4d1f-d29a-f41c5ccfb73c"
      },
      "source": [
        "mapping={'yes':1,'no':0}\n",
        "\n",
        "for df in [df_income_train, df_income_test]:\n",
        "    df['dependency'] =df['dependency'].replace(mapping).astype(np.float64)\n",
        "    df['edjefe'] =df['edjefe'].replace(mapping).astype(np.float64)\n",
        "    df['edjefa'] =df['edjefa'].replace(mapping).astype(np.float64)\n",
        "    \n",
        "df_income_train[['dependency','edjefe','edjefa']].describe()"
      ],
      "execution_count": 86,
      "outputs": [
        {
          "output_type": "execute_result",
          "data": {
            "text/html": [
              "<div>\n",
              "<style scoped>\n",
              "    .dataframe tbody tr th:only-of-type {\n",
              "        vertical-align: middle;\n",
              "    }\n",
              "\n",
              "    .dataframe tbody tr th {\n",
              "        vertical-align: top;\n",
              "    }\n",
              "\n",
              "    .dataframe thead th {\n",
              "        text-align: right;\n",
              "    }\n",
              "</style>\n",
              "<table border=\"1\" class=\"dataframe\">\n",
              "  <thead>\n",
              "    <tr style=\"text-align: right;\">\n",
              "      <th></th>\n",
              "      <th>dependency</th>\n",
              "      <th>edjefe</th>\n",
              "      <th>edjefa</th>\n",
              "    </tr>\n",
              "  </thead>\n",
              "  <tbody>\n",
              "    <tr>\n",
              "      <th>count</th>\n",
              "      <td>9557.000000</td>\n",
              "      <td>9557.000000</td>\n",
              "      <td>9557.000000</td>\n",
              "    </tr>\n",
              "    <tr>\n",
              "      <th>mean</th>\n",
              "      <td>1.149550</td>\n",
              "      <td>5.096788</td>\n",
              "      <td>2.896830</td>\n",
              "    </tr>\n",
              "    <tr>\n",
              "      <th>std</th>\n",
              "      <td>1.605993</td>\n",
              "      <td>5.246513</td>\n",
              "      <td>4.612056</td>\n",
              "    </tr>\n",
              "    <tr>\n",
              "      <th>min</th>\n",
              "      <td>0.000000</td>\n",
              "      <td>0.000000</td>\n",
              "      <td>0.000000</td>\n",
              "    </tr>\n",
              "    <tr>\n",
              "      <th>25%</th>\n",
              "      <td>0.333333</td>\n",
              "      <td>0.000000</td>\n",
              "      <td>0.000000</td>\n",
              "    </tr>\n",
              "    <tr>\n",
              "      <th>50%</th>\n",
              "      <td>0.666667</td>\n",
              "      <td>6.000000</td>\n",
              "      <td>0.000000</td>\n",
              "    </tr>\n",
              "    <tr>\n",
              "      <th>75%</th>\n",
              "      <td>1.333333</td>\n",
              "      <td>9.000000</td>\n",
              "      <td>6.000000</td>\n",
              "    </tr>\n",
              "    <tr>\n",
              "      <th>max</th>\n",
              "      <td>8.000000</td>\n",
              "      <td>21.000000</td>\n",
              "      <td>21.000000</td>\n",
              "    </tr>\n",
              "  </tbody>\n",
              "</table>\n",
              "</div>"
            ],
            "text/plain": [
              "        dependency       edjefe       edjefa\n",
              "count  9557.000000  9557.000000  9557.000000\n",
              "mean      1.149550     5.096788     2.896830\n",
              "std       1.605993     5.246513     4.612056\n",
              "min       0.000000     0.000000     0.000000\n",
              "25%       0.333333     0.000000     0.000000\n",
              "50%       0.666667     6.000000     0.000000\n",
              "75%       1.333333     9.000000     6.000000\n",
              "max       8.000000    21.000000    21.000000"
            ]
          },
          "metadata": {
            "tags": []
          },
          "execution_count": 86
        }
      ]
    },
    {
      "cell_type": "markdown",
      "metadata": {
        "id": "bfZauPC_ztxt"
      },
      "source": [
        "3.2 Lets fix the column with null values\n",
        "According to the documentation for these columns:\n",
        "\n",
        "1. v2a1 (total nulls: 6860) : Monthly rent payment\n",
        "2. v18q1 (total nulls: 7342) : number of tablets household owns\n",
        "3. rez_esc (total nulls: 7928) : Years behind in school\n",
        "4. meaneduc (total nulls: 5) : average years of education for adults (18+)\n",
        "5. SQBmeaned (total nulls: 5) : square of the mean years of education of adults (>=18) in the household 142"
      ]
    },
    {
      "cell_type": "code",
      "metadata": {
        "id": "v_lodK1n0HpM"
      },
      "source": [
        "# 1.  v2a1 (total nulls: 6860) : Monthly rent payment \n",
        "# Columns related to  Monthly rent payment\n",
        "# tipovivi1, =1 own and fully paid house\n",
        "# tipovivi2, \"=1 own,  paying in installments\"\n",
        "# tipovivi3, =1 rented\n",
        "# tipovivi4, =1 precarious \n",
        "# tipovivi5, \"=1 other(assigned,  borrowed)\""
      ],
      "execution_count": 87,
      "outputs": []
    },
    {
      "cell_type": "code",
      "metadata": {
        "colab": {
          "base_uri": "https://localhost:8080/",
          "height": 202
        },
        "id": "9Mq8lcLUwXOn",
        "outputId": "83e6555f-edac-471d-fa80-689dc9414904"
      },
      "source": [
        "data = df_income_train[df_income_train['v2a1'].isnull()].head()\n",
        "\n",
        "columns=['tipovivi1','tipovivi2','tipovivi3','tipovivi4','tipovivi5']\n",
        "data[columns]"
      ],
      "execution_count": 88,
      "outputs": [
        {
          "output_type": "execute_result",
          "data": {
            "text/html": [
              "<div>\n",
              "<style scoped>\n",
              "    .dataframe tbody tr th:only-of-type {\n",
              "        vertical-align: middle;\n",
              "    }\n",
              "\n",
              "    .dataframe tbody tr th {\n",
              "        vertical-align: top;\n",
              "    }\n",
              "\n",
              "    .dataframe thead th {\n",
              "        text-align: right;\n",
              "    }\n",
              "</style>\n",
              "<table border=\"1\" class=\"dataframe\">\n",
              "  <thead>\n",
              "    <tr style=\"text-align: right;\">\n",
              "      <th></th>\n",
              "      <th>tipovivi1</th>\n",
              "      <th>tipovivi2</th>\n",
              "      <th>tipovivi3</th>\n",
              "      <th>tipovivi4</th>\n",
              "      <th>tipovivi5</th>\n",
              "    </tr>\n",
              "  </thead>\n",
              "  <tbody>\n",
              "    <tr>\n",
              "      <th>2</th>\n",
              "      <td>1</td>\n",
              "      <td>0</td>\n",
              "      <td>0</td>\n",
              "      <td>0</td>\n",
              "      <td>0</td>\n",
              "    </tr>\n",
              "    <tr>\n",
              "      <th>13</th>\n",
              "      <td>1</td>\n",
              "      <td>0</td>\n",
              "      <td>0</td>\n",
              "      <td>0</td>\n",
              "      <td>0</td>\n",
              "    </tr>\n",
              "    <tr>\n",
              "      <th>14</th>\n",
              "      <td>1</td>\n",
              "      <td>0</td>\n",
              "      <td>0</td>\n",
              "      <td>0</td>\n",
              "      <td>0</td>\n",
              "    </tr>\n",
              "    <tr>\n",
              "      <th>26</th>\n",
              "      <td>1</td>\n",
              "      <td>0</td>\n",
              "      <td>0</td>\n",
              "      <td>0</td>\n",
              "      <td>0</td>\n",
              "    </tr>\n",
              "    <tr>\n",
              "      <th>32</th>\n",
              "      <td>1</td>\n",
              "      <td>0</td>\n",
              "      <td>0</td>\n",
              "      <td>0</td>\n",
              "      <td>0</td>\n",
              "    </tr>\n",
              "  </tbody>\n",
              "</table>\n",
              "</div>"
            ],
            "text/plain": [
              "    tipovivi1  tipovivi2  tipovivi3  tipovivi4  tipovivi5\n",
              "2           1          0          0          0          0\n",
              "13          1          0          0          0          0\n",
              "14          1          0          0          0          0\n",
              "26          1          0          0          0          0\n",
              "32          1          0          0          0          0"
            ]
          },
          "metadata": {
            "tags": []
          },
          "execution_count": 88
        }
      ]
    },
    {
      "cell_type": "code",
      "metadata": {
        "colab": {
          "base_uri": "https://localhost:8080/",
          "height": 539
        },
        "id": "GLAttT4FwnbS",
        "outputId": "ed320fc5-451b-46d8-aa04-0af00cb3ace5"
      },
      "source": [
        "# Variables indicating home ownership\n",
        "own_variables = [x for x in df_income_train if x.startswith('tipo')]\n",
        "\n",
        "# Plot of the home ownership variables for home missing rent payments\n",
        "df_income_train.loc[df_income_train['v2a1'].isnull(), own_variables].sum().plot.bar(figsize = (10, 8),\n",
        "                                                                        color = 'green',\n",
        "                                                              edgecolor = 'k', linewidth = 2);\n",
        "plt.xticks([0, 1, 2, 3, 4],\n",
        "           ['Owns and Paid Off', 'Owns and Paying', 'Rented', 'Precarious', 'Other'],\n",
        "          rotation = 20)\n",
        "plt.title('Home Ownership Status for Households Missing Rent Payments', size = 18);"
      ],
      "execution_count": 89,
      "outputs": [
        {
          "output_type": "display_data",
          "data": {
            "image/png": "[encoded data removed]",
            "text/plain": [
              "<Figure size 720x576 with 1 Axes>"
            ]
          },
          "metadata": {
            "tags": []
          }
        }
      ]
    },
    {
      "cell_type": "code",
      "metadata": {
        "colab": {
          "base_uri": "https://localhost:8080/"
        },
        "id": "MrQ6GvpcwqHE",
        "outputId": "92224668-9b32-41fd-ccba-211cd724c085"
      },
      "source": [
        "#Looking at the above data it makes sense that when the house is fully paid, there will be no monthly rent payment.\n",
        "#Lets add 0 for all the null values.\n",
        "for df in [df_income_train, df_income_test]:\n",
        "    df['v2a1'].fillna(value=0, inplace=True)\n",
        "\n",
        "df_income_train[['v2a1']].isnull().sum()"
      ],
      "execution_count": 90,
      "outputs": [
        {
          "output_type": "execute_result",
          "data": {
            "text/plain": [
              "v2a1    0\n",
              "dtype: int64"
            ]
          },
          "metadata": {
            "tags": []
          },
          "execution_count": 90
        }
      ]
    },
    {
      "cell_type": "code",
      "metadata": {
        "id": "Kpa9gu360h1V"
      },
      "source": [
        "# 2.  v18q1 (total nulls: 7342) : number of tablets household owns \n",
        "# Columns related to  number of tablets household owns \n",
        "# v18q, owns a tablet"
      ],
      "execution_count": 91,
      "outputs": []
    },
    {
      "cell_type": "code",
      "metadata": {
        "colab": {
          "base_uri": "https://localhost:8080/"
        },
        "id": "uxfU1gCs0itX",
        "outputId": "9f5aba3d-94c5-4ef3-bc74-cf59b4626850"
      },
      "source": [
        "# Since this is a household variable, it only makes sense to look at it on a household level, \n",
        "# so we'll only select the rows for the head of household.\n",
        "\n",
        "# Heads of household\n",
        "heads = df_income_train.loc[df_income_train['parentesco1'] == 1].copy()\n",
        "heads.groupby('v18q')['v18q1'].apply(lambda x: x.isnull().sum())\n"
      ],
      "execution_count": 92,
      "outputs": [
        {
          "output_type": "execute_result",
          "data": {
            "text/plain": [
              "v18q\n",
              "0    2318\n",
              "1       0\n",
              "Name: v18q1, dtype: int64"
            ]
          },
          "metadata": {
            "tags": []
          },
          "execution_count": 92
        }
      ]
    },
    {
      "cell_type": "code",
      "metadata": {
        "colab": {
          "base_uri": "https://localhost:8080/",
          "height": 417
        },
        "id": "hY5unn260uvH",
        "outputId": "ed4ec0ce-c89a-43e5-cd64-91e5cd029909"
      },
      "source": [
        "plt.figure(figsize = (8, 6))\n",
        "col='v18q1'\n",
        "df_income_train[col].value_counts().sort_index().plot.bar(color = 'blue',\n",
        "                                             edgecolor = 'k',\n",
        "                                             linewidth = 2)\n",
        "plt.xlabel(f'{col}'); plt.title(f'{col} Value Counts'); plt.ylabel('Count')\n",
        "plt.show();"
      ],
      "execution_count": 93,
      "outputs": [
        {
          "output_type": "display_data",
          "data": {
            "image/png": "[encoded data removed]",
            "text/plain": [
              "<Figure size 576x432 with 1 Axes>"
            ]
          },
          "metadata": {
            "tags": []
          }
        }
      ]
    },
    {
      "cell_type": "code",
      "metadata": {
        "colab": {
          "base_uri": "https://localhost:8080/"
        },
        "id": "Nwp8YZT30x0L",
        "outputId": "eedf61ea-b8f7-49bd-db63-b750b2b4d317"
      },
      "source": [
        "#Looking at the above data it makes sense that when owns a tablet column is 0, there will be no number of tablets household owns.\n",
        "#Lets add 0 for all the null values.\n",
        "for df in [df_income_train, df_income_test]:\n",
        "    df['v18q1'].fillna(value=0, inplace=True)\n",
        "\n",
        "df_income_train[['v18q1']].isnull().sum()"
      ],
      "execution_count": 94,
      "outputs": [
        {
          "output_type": "execute_result",
          "data": {
            "text/plain": [
              "v18q1    0\n",
              "dtype: int64"
            ]
          },
          "metadata": {
            "tags": []
          },
          "execution_count": 94
        }
      ]
    },
    {
      "cell_type": "code",
      "metadata": {
        "colab": {
          "base_uri": "https://localhost:8080/"
        },
        "id": "LCY2ePrF00-t",
        "outputId": "86c694cd-5062-4beb-8909-1d04896657a3"
      },
      "source": [
        "# 3.  rez_esc (total nulls: 7928) : Years behind in school  \n",
        "# Columns related to Years behind in school \n",
        "# Age in years\n",
        "\n",
        "# Lets look at the data with not null values first.\n",
        "df_income_train[df_income_train['rez_esc'].notnull()]['age'].describe()"
      ],
      "execution_count": 95,
      "outputs": [
        {
          "output_type": "execute_result",
          "data": {
            "text/plain": [
              "count    1629.000000\n",
              "mean       12.258441\n",
              "std         3.218325\n",
              "min         7.000000\n",
              "25%         9.000000\n",
              "50%        12.000000\n",
              "75%        15.000000\n",
              "max        17.000000\n",
              "Name: age, dtype: float64"
            ]
          },
          "metadata": {
            "tags": []
          },
          "execution_count": 95
        }
      ]
    },
    {
      "cell_type": "code",
      "metadata": {
        "colab": {
          "base_uri": "https://localhost:8080/"
        },
        "id": "ucjYQq6p0866",
        "outputId": "4751a808-5aff-43de-9063-da9d1e558229"
      },
      "source": [
        "# From the above , we see that when min age is 7 and max age is 17 for Years,\n",
        "# then the 'behind in school' column has a value.\n",
        "\n",
        "df_income_train.loc[df_income_train['rez_esc'].isnull()]['age'].describe()"
      ],
      "execution_count": 96,
      "outputs": [
        {
          "output_type": "execute_result",
          "data": {
            "text/plain": [
              "count    7928.000000\n",
              "mean       38.833249\n",
              "std        20.989486\n",
              "min         0.000000\n",
              "25%        24.000000\n",
              "50%        38.000000\n",
              "75%        54.000000\n",
              "max        97.000000\n",
              "Name: age, dtype: float64"
            ]
          },
          "metadata": {
            "tags": []
          },
          "execution_count": 96
        }
      ]
    },
    {
      "cell_type": "code",
      "metadata": {
        "colab": {
          "base_uri": "https://localhost:8080/"
        },
        "id": "VuGxwDhf1DVJ",
        "outputId": "601e842c-6d6e-4296-855d-005ef9bc08a8"
      },
      "source": [
        "df_income_train.loc[(df_income_train['rez_esc'].isnull() & \n",
        "                     ((df_income_train['age'] > 7) & \n",
        "                      (df_income_train['age'] < 17)))]['age'].describe()\n",
        "#There is one value that has Null for the 'behind in school' column with age between 7 and 17 "
      ],
      "execution_count": 97,
      "outputs": [
        {
          "output_type": "execute_result",
          "data": {
            "text/plain": [
              "count     1.0\n",
              "mean     10.0\n",
              "std       NaN\n",
              "min      10.0\n",
              "25%      10.0\n",
              "50%      10.0\n",
              "75%      10.0\n",
              "max      10.0\n",
              "Name: age, dtype: float64"
            ]
          },
          "metadata": {
            "tags": []
          },
          "execution_count": 97
        }
      ]
    },
    {
      "cell_type": "code",
      "metadata": {
        "colab": {
          "base_uri": "https://localhost:8080/",
          "height": 129
        },
        "id": "sS3rG8t61K8s",
        "outputId": "b99d7c74-3219-413d-8250-1ddd30cd17c4"
      },
      "source": [
        "df_income_train[(df_income_train['age'] ==10) & \n",
        "                df_income_train['rez_esc'].isnull()].head()\n",
        "\n",
        "df_income_train[(df_income_train['Id'] =='ID_f012e4242')].head()\n",
        "\n",
        "# there is only one member in household for the member with age 10 and\n",
        "# who is 'behind in school'. This explains why the member is \n",
        "# behind in school."
      ],
      "execution_count": 98,
      "outputs": [
        {
          "output_type": "execute_result",
          "data": {
            "text/html": [
              "<div>\n",
              "<style scoped>\n",
              "    .dataframe tbody tr th:only-of-type {\n",
              "        vertical-align: middle;\n",
              "    }\n",
              "\n",
              "    .dataframe tbody tr th {\n",
              "        vertical-align: top;\n",
              "    }\n",
              "\n",
              "    .dataframe thead th {\n",
              "        text-align: right;\n",
              "    }\n",
              "</style>\n",
              "<table border=\"1\" class=\"dataframe\">\n",
              "  <thead>\n",
              "    <tr style=\"text-align: right;\">\n",
              "      <th></th>\n",
              "      <th>Id</th>\n",
              "      <th>v2a1</th>\n",
              "      <th>hacdor</th>\n",
              "      <th>rooms</th>\n",
              "      <th>hacapo</th>\n",
              "      <th>v14a</th>\n",
              "      <th>refrig</th>\n",
              "      <th>v18q</th>\n",
              "      <th>v18q1</th>\n",
              "      <th>r4h1</th>\n",
              "      <th>r4h2</th>\n",
              "      <th>r4h3</th>\n",
              "      <th>r4m1</th>\n",
              "      <th>r4m2</th>\n",
              "      <th>r4m3</th>\n",
              "      <th>r4t1</th>\n",
              "      <th>r4t2</th>\n",
              "      <th>r4t3</th>\n",
              "      <th>tamhog</th>\n",
              "      <th>tamviv</th>\n",
              "      <th>escolari</th>\n",
              "      <th>rez_esc</th>\n",
              "      <th>hhsize</th>\n",
              "      <th>paredblolad</th>\n",
              "      <th>paredzocalo</th>\n",
              "      <th>paredpreb</th>\n",
              "      <th>pareddes</th>\n",
              "      <th>paredmad</th>\n",
              "      <th>paredzinc</th>\n",
              "      <th>paredfibras</th>\n",
              "      <th>paredother</th>\n",
              "      <th>pisomoscer</th>\n",
              "      <th>pisocemento</th>\n",
              "      <th>pisoother</th>\n",
              "      <th>pisonatur</th>\n",
              "      <th>pisonotiene</th>\n",
              "      <th>pisomadera</th>\n",
              "      <th>techozinc</th>\n",
              "      <th>techoentrepiso</th>\n",
              "      <th>techocane</th>\n",
              "      <th>...</th>\n",
              "      <th>meaneduc</th>\n",
              "      <th>instlevel1</th>\n",
              "      <th>instlevel2</th>\n",
              "      <th>instlevel3</th>\n",
              "      <th>instlevel4</th>\n",
              "      <th>instlevel5</th>\n",
              "      <th>instlevel6</th>\n",
              "      <th>instlevel7</th>\n",
              "      <th>instlevel8</th>\n",
              "      <th>instlevel9</th>\n",
              "      <th>bedrooms</th>\n",
              "      <th>overcrowding</th>\n",
              "      <th>tipovivi1</th>\n",
              "      <th>tipovivi2</th>\n",
              "      <th>tipovivi3</th>\n",
              "      <th>tipovivi4</th>\n",
              "      <th>tipovivi5</th>\n",
              "      <th>computer</th>\n",
              "      <th>television</th>\n",
              "      <th>mobilephone</th>\n",
              "      <th>qmobilephone</th>\n",
              "      <th>lugar1</th>\n",
              "      <th>lugar2</th>\n",
              "      <th>lugar3</th>\n",
              "      <th>lugar4</th>\n",
              "      <th>lugar5</th>\n",
              "      <th>lugar6</th>\n",
              "      <th>area1</th>\n",
              "      <th>area2</th>\n",
              "      <th>age</th>\n",
              "      <th>SQBescolari</th>\n",
              "      <th>SQBage</th>\n",
              "      <th>SQBhogar_total</th>\n",
              "      <th>SQBedjefe</th>\n",
              "      <th>SQBhogar_nin</th>\n",
              "      <th>SQBovercrowding</th>\n",
              "      <th>SQBdependency</th>\n",
              "      <th>SQBmeaned</th>\n",
              "      <th>agesq</th>\n",
              "      <th>Target</th>\n",
              "    </tr>\n",
              "  </thead>\n",
              "  <tbody>\n",
              "    <tr>\n",
              "      <th>2514</th>\n",
              "      <td>ID_f012e4242</td>\n",
              "      <td>160000.0</td>\n",
              "      <td>0</td>\n",
              "      <td>6</td>\n",
              "      <td>0</td>\n",
              "      <td>1</td>\n",
              "      <td>1</td>\n",
              "      <td>1</td>\n",
              "      <td>1.0</td>\n",
              "      <td>0</td>\n",
              "      <td>1</td>\n",
              "      <td>1</td>\n",
              "      <td>1</td>\n",
              "      <td>1</td>\n",
              "      <td>2</td>\n",
              "      <td>1</td>\n",
              "      <td>2</td>\n",
              "      <td>3</td>\n",
              "      <td>3</td>\n",
              "      <td>3</td>\n",
              "      <td>0</td>\n",
              "      <td>NaN</td>\n",
              "      <td>3</td>\n",
              "      <td>1</td>\n",
              "      <td>0</td>\n",
              "      <td>0</td>\n",
              "      <td>0</td>\n",
              "      <td>0</td>\n",
              "      <td>0</td>\n",
              "      <td>0</td>\n",
              "      <td>0</td>\n",
              "      <td>1</td>\n",
              "      <td>0</td>\n",
              "      <td>0</td>\n",
              "      <td>0</td>\n",
              "      <td>0</td>\n",
              "      <td>0</td>\n",
              "      <td>1</td>\n",
              "      <td>0</td>\n",
              "      <td>0</td>\n",
              "      <td>...</td>\n",
              "      <td>13.5</td>\n",
              "      <td>1</td>\n",
              "      <td>0</td>\n",
              "      <td>0</td>\n",
              "      <td>0</td>\n",
              "      <td>0</td>\n",
              "      <td>0</td>\n",
              "      <td>0</td>\n",
              "      <td>0</td>\n",
              "      <td>0</td>\n",
              "      <td>2</td>\n",
              "      <td>1.5</td>\n",
              "      <td>0</td>\n",
              "      <td>1</td>\n",
              "      <td>0</td>\n",
              "      <td>0</td>\n",
              "      <td>0</td>\n",
              "      <td>1</td>\n",
              "      <td>0</td>\n",
              "      <td>1</td>\n",
              "      <td>2</td>\n",
              "      <td>1</td>\n",
              "      <td>0</td>\n",
              "      <td>0</td>\n",
              "      <td>0</td>\n",
              "      <td>0</td>\n",
              "      <td>0</td>\n",
              "      <td>1</td>\n",
              "      <td>0</td>\n",
              "      <td>10</td>\n",
              "      <td>0</td>\n",
              "      <td>100</td>\n",
              "      <td>9</td>\n",
              "      <td>121</td>\n",
              "      <td>1</td>\n",
              "      <td>2.25</td>\n",
              "      <td>0.25</td>\n",
              "      <td>182.25</td>\n",
              "      <td>100</td>\n",
              "      <td>4</td>\n",
              "    </tr>\n",
              "  </tbody>\n",
              "</table>\n",
              "<p>1 rows × 143 columns</p>\n",
              "</div>"
            ],
            "text/plain": [
              "                Id      v2a1  hacdor  ...  SQBmeaned  agesq  Target\n",
              "2514  ID_f012e4242  160000.0       0  ...     182.25    100       4\n",
              "\n",
              "[1 rows x 143 columns]"
            ]
          },
          "metadata": {
            "tags": []
          },
          "execution_count": 98
        }
      ]
    },
    {
      "cell_type": "code",
      "metadata": {
        "colab": {
          "base_uri": "https://localhost:8080/"
        },
        "id": "p8S3BPl01VY9",
        "outputId": "c3f59d0b-e0ef-45a5-dddd-5cd0f87595c7"
      },
      "source": [
        "# from above we see that  the 'behind in school' column has null values \n",
        "# Lets use the above to fix the data\n",
        "\n",
        "for df in [df_income_train, df_income_test]:\n",
        "    df['rez_esc'].fillna(value=0, inplace=True)\n",
        "    \n",
        "df_income_train[['rez_esc']].isnull().sum()"
      ],
      "execution_count": 99,
      "outputs": [
        {
          "output_type": "execute_result",
          "data": {
            "text/plain": [
              "rez_esc    0\n",
              "dtype: int64"
            ]
          },
          "metadata": {
            "tags": []
          },
          "execution_count": 99
        }
      ]
    },
    {
      "cell_type": "code",
      "metadata": {
        "id": "-A5_UVMu1b-d"
      },
      "source": [
        "# meaneduc (total nulls: 5) : average years of education for adults (18+)  \n",
        "# Columns related to average years of education for adults (18+)  \n",
        "# edjefe, years of education of male head of household, based on the interaction of escolari (years of education),\n",
        "#    head of household and gender, yes=1 and no=0\n",
        "# edjefa, years of education of female head of household, based on the interaction of escolari (years of education), \n",
        "#    head of household and gender, yes=1 and no=0 \n",
        "# instlevel1, =1 no level of education\n",
        "# instlevel2, =1 incomplete primary "
      ],
      "execution_count": 100,
      "outputs": []
    },
    {
      "cell_type": "code",
      "metadata": {
        "colab": {
          "base_uri": "https://localhost:8080/",
          "height": 294
        },
        "id": "tfvFS2rI1jU7",
        "outputId": "7976f11f-9ae4-4b3e-a4bd-c7d2f7fd298f"
      },
      "source": [
        "data = df_income_train[df_income_train['meaneduc'].isnull()].head()\n",
        "\n",
        "columns=['edjefe','edjefa','instlevel1','instlevel2']\n",
        "data[columns][data[columns]['instlevel1']>0].describe()"
      ],
      "execution_count": 101,
      "outputs": [
        {
          "output_type": "execute_result",
          "data": {
            "text/html": [
              "<div>\n",
              "<style scoped>\n",
              "    .dataframe tbody tr th:only-of-type {\n",
              "        vertical-align: middle;\n",
              "    }\n",
              "\n",
              "    .dataframe tbody tr th {\n",
              "        vertical-align: top;\n",
              "    }\n",
              "\n",
              "    .dataframe thead th {\n",
              "        text-align: right;\n",
              "    }\n",
              "</style>\n",
              "<table border=\"1\" class=\"dataframe\">\n",
              "  <thead>\n",
              "    <tr style=\"text-align: right;\">\n",
              "      <th></th>\n",
              "      <th>edjefe</th>\n",
              "      <th>edjefa</th>\n",
              "      <th>instlevel1</th>\n",
              "      <th>instlevel2</th>\n",
              "    </tr>\n",
              "  </thead>\n",
              "  <tbody>\n",
              "    <tr>\n",
              "      <th>count</th>\n",
              "      <td>0.0</td>\n",
              "      <td>0.0</td>\n",
              "      <td>0.0</td>\n",
              "      <td>0.0</td>\n",
              "    </tr>\n",
              "    <tr>\n",
              "      <th>mean</th>\n",
              "      <td>NaN</td>\n",
              "      <td>NaN</td>\n",
              "      <td>NaN</td>\n",
              "      <td>NaN</td>\n",
              "    </tr>\n",
              "    <tr>\n",
              "      <th>std</th>\n",
              "      <td>NaN</td>\n",
              "      <td>NaN</td>\n",
              "      <td>NaN</td>\n",
              "      <td>NaN</td>\n",
              "    </tr>\n",
              "    <tr>\n",
              "      <th>min</th>\n",
              "      <td>NaN</td>\n",
              "      <td>NaN</td>\n",
              "      <td>NaN</td>\n",
              "      <td>NaN</td>\n",
              "    </tr>\n",
              "    <tr>\n",
              "      <th>25%</th>\n",
              "      <td>NaN</td>\n",
              "      <td>NaN</td>\n",
              "      <td>NaN</td>\n",
              "      <td>NaN</td>\n",
              "    </tr>\n",
              "    <tr>\n",
              "      <th>50%</th>\n",
              "      <td>NaN</td>\n",
              "      <td>NaN</td>\n",
              "      <td>NaN</td>\n",
              "      <td>NaN</td>\n",
              "    </tr>\n",
              "    <tr>\n",
              "      <th>75%</th>\n",
              "      <td>NaN</td>\n",
              "      <td>NaN</td>\n",
              "      <td>NaN</td>\n",
              "      <td>NaN</td>\n",
              "    </tr>\n",
              "    <tr>\n",
              "      <th>max</th>\n",
              "      <td>NaN</td>\n",
              "      <td>NaN</td>\n",
              "      <td>NaN</td>\n",
              "      <td>NaN</td>\n",
              "    </tr>\n",
              "  </tbody>\n",
              "</table>\n",
              "</div>"
            ],
            "text/plain": [
              "       edjefe  edjefa  instlevel1  instlevel2\n",
              "count     0.0     0.0         0.0         0.0\n",
              "mean      NaN     NaN         NaN         NaN\n",
              "std       NaN     NaN         NaN         NaN\n",
              "min       NaN     NaN         NaN         NaN\n",
              "25%       NaN     NaN         NaN         NaN\n",
              "50%       NaN     NaN         NaN         NaN\n",
              "75%       NaN     NaN         NaN         NaN\n",
              "max       NaN     NaN         NaN         NaN"
            ]
          },
          "metadata": {
            "tags": []
          },
          "execution_count": 101
        }
      ]
    },
    {
      "cell_type": "code",
      "metadata": {
        "colab": {
          "base_uri": "https://localhost:8080/"
        },
        "id": "t9FIsroF1nTg",
        "outputId": "a106e42f-62e5-4780-9685-67355a8c201d"
      },
      "source": [
        "# from the above, we find that meaneduc is null when no level of education is 0\n",
        "\n",
        "for df in [df_income_train, df_income_test]:\n",
        "    df['meaneduc'].fillna(value=0, inplace=True)\n",
        "df_income_train[['meaneduc']].isnull().sum()"
      ],
      "execution_count": 102,
      "outputs": [
        {
          "output_type": "execute_result",
          "data": {
            "text/plain": [
              "meaneduc    0\n",
              "dtype: int64"
            ]
          },
          "metadata": {
            "tags": []
          },
          "execution_count": 102
        }
      ]
    },
    {
      "cell_type": "code",
      "metadata": {
        "id": "ICmxJFx21t0k"
      },
      "source": [
        "# SQBmeaned (total nulls: 5) : square of the mean years of education of adults (>=18) in the household 142  \n",
        "# Columns related to average years of education for adults (18+)  \n",
        "# edjefe, years of education of male head of household, based on the interaction of escolari (years of education),\n",
        "#    head of household and gender, yes=1 and no=0\n",
        "# edjefa, years of education of female head of household, based on the interaction of escolari (years of education), \n",
        "#    head of household and gender, yes=1 and no=0 \n",
        "# instlevel1, =1 no level of education\n",
        "# instlevel2, =1 incomplete primary"
      ],
      "execution_count": 103,
      "outputs": []
    },
    {
      "cell_type": "code",
      "metadata": {
        "colab": {
          "base_uri": "https://localhost:8080/",
          "height": 294
        },
        "id": "HsNJ2eTa1xy5",
        "outputId": "729cffbe-db95-4c3a-fbfd-7b68551e2aa9"
      },
      "source": [
        "data = df_income_train[df_income_train['SQBmeaned'].isnull()].head()\n",
        "\n",
        "columns=['edjefe','edjefa','instlevel1','instlevel2']\n",
        "data[columns][data[columns]['instlevel1']>0].describe()"
      ],
      "execution_count": 104,
      "outputs": [
        {
          "output_type": "execute_result",
          "data": {
            "text/html": [
              "<div>\n",
              "<style scoped>\n",
              "    .dataframe tbody tr th:only-of-type {\n",
              "        vertical-align: middle;\n",
              "    }\n",
              "\n",
              "    .dataframe tbody tr th {\n",
              "        vertical-align: top;\n",
              "    }\n",
              "\n",
              "    .dataframe thead th {\n",
              "        text-align: right;\n",
              "    }\n",
              "</style>\n",
              "<table border=\"1\" class=\"dataframe\">\n",
              "  <thead>\n",
              "    <tr style=\"text-align: right;\">\n",
              "      <th></th>\n",
              "      <th>edjefe</th>\n",
              "      <th>edjefa</th>\n",
              "      <th>instlevel1</th>\n",
              "      <th>instlevel2</th>\n",
              "    </tr>\n",
              "  </thead>\n",
              "  <tbody>\n",
              "    <tr>\n",
              "      <th>count</th>\n",
              "      <td>0.0</td>\n",
              "      <td>0.0</td>\n",
              "      <td>0.0</td>\n",
              "      <td>0.0</td>\n",
              "    </tr>\n",
              "    <tr>\n",
              "      <th>mean</th>\n",
              "      <td>NaN</td>\n",
              "      <td>NaN</td>\n",
              "      <td>NaN</td>\n",
              "      <td>NaN</td>\n",
              "    </tr>\n",
              "    <tr>\n",
              "      <th>std</th>\n",
              "      <td>NaN</td>\n",
              "      <td>NaN</td>\n",
              "      <td>NaN</td>\n",
              "      <td>NaN</td>\n",
              "    </tr>\n",
              "    <tr>\n",
              "      <th>min</th>\n",
              "      <td>NaN</td>\n",
              "      <td>NaN</td>\n",
              "      <td>NaN</td>\n",
              "      <td>NaN</td>\n",
              "    </tr>\n",
              "    <tr>\n",
              "      <th>25%</th>\n",
              "      <td>NaN</td>\n",
              "      <td>NaN</td>\n",
              "      <td>NaN</td>\n",
              "      <td>NaN</td>\n",
              "    </tr>\n",
              "    <tr>\n",
              "      <th>50%</th>\n",
              "      <td>NaN</td>\n",
              "      <td>NaN</td>\n",
              "      <td>NaN</td>\n",
              "      <td>NaN</td>\n",
              "    </tr>\n",
              "    <tr>\n",
              "      <th>75%</th>\n",
              "      <td>NaN</td>\n",
              "      <td>NaN</td>\n",
              "      <td>NaN</td>\n",
              "      <td>NaN</td>\n",
              "    </tr>\n",
              "    <tr>\n",
              "      <th>max</th>\n",
              "      <td>NaN</td>\n",
              "      <td>NaN</td>\n",
              "      <td>NaN</td>\n",
              "      <td>NaN</td>\n",
              "    </tr>\n",
              "  </tbody>\n",
              "</table>\n",
              "</div>"
            ],
            "text/plain": [
              "       edjefe  edjefa  instlevel1  instlevel2\n",
              "count     0.0     0.0         0.0         0.0\n",
              "mean      NaN     NaN         NaN         NaN\n",
              "std       NaN     NaN         NaN         NaN\n",
              "min       NaN     NaN         NaN         NaN\n",
              "25%       NaN     NaN         NaN         NaN\n",
              "50%       NaN     NaN         NaN         NaN\n",
              "75%       NaN     NaN         NaN         NaN\n",
              "max       NaN     NaN         NaN         NaN"
            ]
          },
          "metadata": {
            "tags": []
          },
          "execution_count": 104
        }
      ]
    },
    {
      "cell_type": "code",
      "metadata": {
        "colab": {
          "base_uri": "https://localhost:8080/"
        },
        "id": "1r5jTBVJ13bH",
        "outputId": "707dab5f-f92e-4c7a-beb5-ecd032cd5113"
      },
      "source": [
        "# from the above, we find that SQBmeaned is null when no level of education is 0\n",
        "\n",
        "for df in [df_income_train, df_income_test]:\n",
        "    df['SQBmeaned'].fillna(value=0, inplace=True)\n",
        "df_income_train[['SQBmeaned']].isnull().sum()"
      ],
      "execution_count": 105,
      "outputs": [
        {
          "output_type": "execute_result",
          "data": {
            "text/plain": [
              "SQBmeaned    0\n",
              "dtype: int64"
            ]
          },
          "metadata": {
            "tags": []
          },
          "execution_count": 105
        }
      ]
    },
    {
      "cell_type": "code",
      "metadata": {
        "colab": {
          "base_uri": "https://localhost:8080/"
        },
        "id": "nLIptQ7a17zv",
        "outputId": "931d4b90-05b3-4e40-e582-b5b30dce8f7a"
      },
      "source": [
        "#Lets look at the overall data\n",
        "\n",
        "null_counts = df_income_train.isnull().sum()\n",
        "null_counts[null_counts > 0].sort_values(ascending=False)"
      ],
      "execution_count": 106,
      "outputs": [
        {
          "output_type": "execute_result",
          "data": {
            "text/plain": [
              "Series([], dtype: int64)"
            ]
          },
          "metadata": {
            "tags": []
          },
          "execution_count": 106
        }
      ]
    },
    {
      "cell_type": "markdown",
      "metadata": {
        "id": "JZ4Z59a92Bjm"
      },
      "source": [
        "3.3 Lets look at the target column\n",
        "\n",
        "Lets see if records belonging to same household has same target/score."
      ]
    },
    {
      "cell_type": "code",
      "metadata": {
        "colab": {
          "base_uri": "https://localhost:8080/"
        },
        "id": "TTwxYbJ22Ecx",
        "outputId": "65b3d050-6f3c-4e49-8c88-cf9652c5c390"
      },
      "source": [
        "# Groupby the household and figure out the number of unique values\n",
        "all_equal = df_income_train.groupby('idhogar')['Target'].apply(lambda x: x.nunique() == 1)\n",
        "\n",
        "# Households where targets are not all equal\n",
        "not_equal = all_equal[all_equal != True]\n",
        "print('There are {} households where the family members do not all have the same target.'.format(len(not_equal)))"
      ],
      "execution_count": 107,
      "outputs": [
        {
          "output_type": "stream",
          "text": [
            "There are 85 households where the family members do not all have the same target.\n"
          ],
          "name": "stdout"
        }
      ]
    },
    {
      "cell_type": "code",
      "metadata": {
        "colab": {
          "base_uri": "https://localhost:8080/",
          "height": 202
        },
        "id": "DH8UEs592Kr5",
        "outputId": "3c2d5144-2f39-4955-fd2d-f94ebf82404b"
      },
      "source": [
        "#Lets check one household\n",
        "df_income_train[df_income_train['idhogar'] == not_equal.index[0]][['idhogar', 'parentesco1', 'Target']]"
      ],
      "execution_count": 108,
      "outputs": [
        {
          "output_type": "execute_result",
          "data": {
            "text/html": [
              "<div>\n",
              "<style scoped>\n",
              "    .dataframe tbody tr th:only-of-type {\n",
              "        vertical-align: middle;\n",
              "    }\n",
              "\n",
              "    .dataframe tbody tr th {\n",
              "        vertical-align: top;\n",
              "    }\n",
              "\n",
              "    .dataframe thead th {\n",
              "        text-align: right;\n",
              "    }\n",
              "</style>\n",
              "<table border=\"1\" class=\"dataframe\">\n",
              "  <thead>\n",
              "    <tr style=\"text-align: right;\">\n",
              "      <th></th>\n",
              "      <th>idhogar</th>\n",
              "      <th>parentesco1</th>\n",
              "      <th>Target</th>\n",
              "    </tr>\n",
              "  </thead>\n",
              "  <tbody>\n",
              "    <tr>\n",
              "      <th>7651</th>\n",
              "      <td>0172ab1d9</td>\n",
              "      <td>0</td>\n",
              "      <td>3</td>\n",
              "    </tr>\n",
              "    <tr>\n",
              "      <th>7652</th>\n",
              "      <td>0172ab1d9</td>\n",
              "      <td>0</td>\n",
              "      <td>2</td>\n",
              "    </tr>\n",
              "    <tr>\n",
              "      <th>7653</th>\n",
              "      <td>0172ab1d9</td>\n",
              "      <td>0</td>\n",
              "      <td>3</td>\n",
              "    </tr>\n",
              "    <tr>\n",
              "      <th>7654</th>\n",
              "      <td>0172ab1d9</td>\n",
              "      <td>1</td>\n",
              "      <td>3</td>\n",
              "    </tr>\n",
              "    <tr>\n",
              "      <th>7655</th>\n",
              "      <td>0172ab1d9</td>\n",
              "      <td>0</td>\n",
              "      <td>2</td>\n",
              "    </tr>\n",
              "  </tbody>\n",
              "</table>\n",
              "</div>"
            ],
            "text/plain": [
              "        idhogar  parentesco1  Target\n",
              "7651  0172ab1d9            0       3\n",
              "7652  0172ab1d9            0       2\n",
              "7653  0172ab1d9            0       3\n",
              "7654  0172ab1d9            1       3\n",
              "7655  0172ab1d9            0       2"
            ]
          },
          "metadata": {
            "tags": []
          },
          "execution_count": 108
        }
      ]
    },
    {
      "cell_type": "code",
      "metadata": {
        "colab": {
          "base_uri": "https://localhost:8080/"
        },
        "id": "kdiAfvJF2NwZ",
        "outputId": "6791ffc6-8eb7-4aef-f116-db7042f6dfbb"
      },
      "source": [
        "#Lets use Target value of the parent record (head of the household) and update rest. But before that lets check\n",
        "# if all families has a head. \n",
        "\n",
        "households_head = df_income_train.groupby('idhogar')['parentesco1'].sum()\n",
        "\n",
        "# Find households without a head\n",
        "households_no_head = df_income_train.loc[df_income_train['idhogar'].isin(households_head[households_head == 0].index), :]\n",
        "\n",
        "print('There are {} households without a head.'.format(households_no_head['idhogar'].nunique()))"
      ],
      "execution_count": 109,
      "outputs": [
        {
          "output_type": "stream",
          "text": [
            "There are 15 households without a head.\n"
          ],
          "name": "stdout"
        }
      ]
    },
    {
      "cell_type": "code",
      "metadata": {
        "colab": {
          "base_uri": "https://localhost:8080/"
        },
        "id": "MsCxXEF92Q53",
        "outputId": "797537d8-b775-408b-c1d2-65049aa5bd4f"
      },
      "source": [
        "# Find households without a head and where Target value are different\n",
        "\n",
        "households_no_head_equal = households_no_head.groupby('idhogar')['Target'].apply(lambda x: x.nunique() == 1)\n",
        "print('{} Households with no head have different Target value.'.format(sum(households_no_head_equal == False)))"
      ],
      "execution_count": 110,
      "outputs": [
        {
          "output_type": "stream",
          "text": [
            "0 Households with no head have different Target value.\n"
          ],
          "name": "stdout"
        }
      ]
    },
    {
      "cell_type": "code",
      "metadata": {
        "colab": {
          "base_uri": "https://localhost:8080/"
        },
        "id": "A3v9IsSl2WKO",
        "outputId": "6de521b0-3aa1-40e0-bd69-4dd269162519"
      },
      "source": [
        "# Set poverty level of the members and the head of the house within a family.\n",
        "# Iterate through each household\n",
        "\n",
        "for household in not_equal.index:\n",
        "    # Find the correct label (for the head of household)\n",
        "    true_target = int(df_income_train[(df_income_train['idhogar'] == household) & (df_income_train['parentesco1'] == 1.0)]['Target'])\n",
        "    \n",
        "    # Set the correct label for all members in the household\n",
        "    df_income_train.loc[df_income_train['idhogar'] == household, 'Target'] = true_target\n",
        "    \n",
        "    \n",
        "# Groupby the household and figure out the number of unique values\n",
        "all_equal = df_income_train.groupby('idhogar')['Target'].apply(lambda x: x.nunique() == 1)\n",
        "\n",
        "# Households where targets are not all equal\n",
        "not_equal = all_equal[all_equal != True]\n",
        "print('There are {} households where the family members do not all have the same target.'.format(len(not_equal)))"
      ],
      "execution_count": 111,
      "outputs": [
        {
          "output_type": "stream",
          "text": [
            "There are 0 households where the family members do not all have the same target.\n"
          ],
          "name": "stdout"
        }
      ]
    },
    {
      "cell_type": "markdown",
      "metadata": {
        "id": "I0W01Q-A2eVy"
      },
      "source": [
        "3.3 Lets check for any bias in the dataset"
      ]
    },
    {
      "cell_type": "code",
      "metadata": {
        "colab": {
          "base_uri": "https://localhost:8080/"
        },
        "id": "Gi21x_ME2ahE",
        "outputId": "15c4330e-5d5a-4b34-c256-db793778cd06"
      },
      "source": [
        "#Lets look at the dataset and plot head of household and Target\n",
        "# 1 = extreme poverty \n",
        "# 2 = moderate poverty \n",
        "# 3 = vulnerable households \n",
        "# 4 = non vulnerable households \n",
        "\n",
        "target_counts = heads['Target'].value_counts().sort_index()\n",
        "target_counts"
      ],
      "execution_count": 112,
      "outputs": [
        {
          "output_type": "execute_result",
          "data": {
            "text/plain": [
              "1     222\n",
              "2     442\n",
              "3     355\n",
              "4    1954\n",
              "Name: Target, dtype: int64"
            ]
          },
          "metadata": {
            "tags": []
          },
          "execution_count": 112
        }
      ]
    },
    {
      "cell_type": "code",
      "metadata": {
        "colab": {
          "base_uri": "https://localhost:8080/",
          "height": 407
        },
        "id": "0JYpgaUk2s7S",
        "outputId": "95ff6212-0fa7-43b7-e049-6c99d2bd2a0b"
      },
      "source": [
        "target_counts.plot.bar(figsize = (8, 6),linewidth = 2,edgecolor = 'k',title=\"Target vs Total_Count\")"
      ],
      "execution_count": 113,
      "outputs": [
        {
          "output_type": "execute_result",
          "data": {
            "text/plain": [
              "<matplotlib.axes._subplots.AxesSubplot at 0x7f096c489350>"
            ]
          },
          "metadata": {
            "tags": []
          },
          "execution_count": 113
        },
        {
          "output_type": "display_data",
          "data": {
            "image/png": "[encoded data removed]",
            "text/plain": [
              "<Figure size 576x432 with 1 Axes>"
            ]
          },
          "metadata": {
            "tags": []
          }
        }
      ]
    },
    {
      "cell_type": "code",
      "metadata": {
        "id": "ZVbcJrSP2xiR"
      },
      "source": [
        "# extreme poverty is the smallest count in the train dataset. The dataset is biased."
      ],
      "execution_count": 114,
      "outputs": []
    },
    {
      "cell_type": "markdown",
      "metadata": {
        "id": "ksnIlAtI22pH"
      },
      "source": [
        "3.4 Lets look at the Squared Variables\n",
        "\n",
        "‘SQBescolari’,\n",
        "‘SQBage’,\n",
        "‘SQBhogar_total’,\n",
        "‘SQBedjefe’,\n",
        "‘SQBhogar_nin’,\n",
        "‘SQBovercrowding’,\n",
        "‘SQBdependency’,\n",
        "‘SQBmeaned’,\n",
        "‘agesq’"
      ]
    },
    {
      "cell_type": "code",
      "metadata": {
        "colab": {
          "base_uri": "https://localhost:8080/"
        },
        "id": "RAoFHRoI3Dsp",
        "outputId": "2e804ef5-4c91-4801-b1d4-009c6585881a"
      },
      "source": [
        "#Lets remove them\n",
        "print(df_income_train.shape)\n",
        "cols=['SQBescolari', 'SQBage', 'SQBhogar_total', 'SQBedjefe', \n",
        "        'SQBhogar_nin', 'SQBovercrowding', 'SQBdependency', 'SQBmeaned', 'agesq']\n",
        "\n",
        "\n",
        "for df in [df_income_train, df_income_test]:\n",
        "    df.drop(columns = cols,inplace=True)\n",
        "\n",
        "print(df_income_train.shape)"
      ],
      "execution_count": 115,
      "outputs": [
        {
          "output_type": "stream",
          "text": [
            "(9557, 143)\n",
            "(9557, 134)\n"
          ],
          "name": "stdout"
        }
      ]
    },
    {
      "cell_type": "code",
      "metadata": {
        "id": "xODpuwLK3Mwo"
      },
      "source": [
        "id_ = ['Id', 'idhogar', 'Target']\n",
        "\n",
        "ind_bool = ['v18q', 'dis', 'male', 'female', 'estadocivil1', 'estadocivil2', 'estadocivil3', \n",
        "            'estadocivil4', 'estadocivil5', 'estadocivil6', 'estadocivil7', \n",
        "            'parentesco1', 'parentesco2',  'parentesco3', 'parentesco4', 'parentesco5', \n",
        "            'parentesco6', 'parentesco7', 'parentesco8',  'parentesco9', 'parentesco10', \n",
        "            'parentesco11', 'parentesco12', 'instlevel1', 'instlevel2', 'instlevel3', \n",
        "            'instlevel4', 'instlevel5', 'instlevel6', 'instlevel7', 'instlevel8', \n",
        "            'instlevel9', 'mobilephone']\n",
        "\n",
        "ind_ordered = ['rez_esc', 'escolari', 'age']\n",
        "\n",
        "hh_bool = ['hacdor', 'hacapo', 'v14a', 'refrig', 'paredblolad', 'paredzocalo', \n",
        "           'paredpreb','pisocemento', 'pareddes', 'paredmad',\n",
        "           'paredzinc', 'paredfibras', 'paredother', 'pisomoscer', 'pisoother', \n",
        "           'pisonatur', 'pisonotiene', 'pisomadera',\n",
        "           'techozinc', 'techoentrepiso', 'techocane', 'techootro', 'cielorazo', \n",
        "           'abastaguadentro', 'abastaguafuera', 'abastaguano',\n",
        "            'public', 'planpri', 'noelec', 'coopele', 'sanitario1', \n",
        "           'sanitario2', 'sanitario3', 'sanitario5',   'sanitario6',\n",
        "           'energcocinar1', 'energcocinar2', 'energcocinar3', 'energcocinar4', \n",
        "           'elimbasu1', 'elimbasu2', 'elimbasu3', 'elimbasu4', \n",
        "           'elimbasu5', 'elimbasu6', 'epared1', 'epared2', 'epared3',\n",
        "           'etecho1', 'etecho2', 'etecho3', 'eviv1', 'eviv2', 'eviv3', \n",
        "           'tipovivi1', 'tipovivi2', 'tipovivi3', 'tipovivi4', 'tipovivi5', \n",
        "           'computer', 'television', 'lugar1', 'lugar2', 'lugar3',\n",
        "           'lugar4', 'lugar5', 'lugar6', 'area1', 'area2']\n",
        "\n",
        "hh_ordered = [ 'rooms', 'r4h1', 'r4h2', 'r4h3', 'r4m1','r4m2','r4m3', 'r4t1',  'r4t2', \n",
        "              'r4t3', 'v18q1', 'tamhog','tamviv','hhsize','hogar_nin',\n",
        "              'hogar_adul','hogar_mayor','hogar_total',  'bedrooms', 'qmobilephone']\n",
        "\n",
        "hh_cont = ['v2a1', 'dependency', 'edjefe', 'edjefa', 'meaneduc', 'overcrowding']"
      ],
      "execution_count": 116,
      "outputs": []
    },
    {
      "cell_type": "code",
      "metadata": {
        "colab": {
          "base_uri": "https://localhost:8080/"
        },
        "id": "CxA9Dr7s3OYE",
        "outputId": "2381e479-be00-4bcb-f7f8-dd09b1108a0d"
      },
      "source": [
        "#Check for redundant household variables\n",
        "\n",
        "heads = df_income_train.loc[df_income_train['parentesco1'] == 1, :]\n",
        "heads = heads[id_ + hh_bool + hh_cont + hh_ordered]\n",
        "heads.shape"
      ],
      "execution_count": 117,
      "outputs": [
        {
          "output_type": "execute_result",
          "data": {
            "text/plain": [
              "(2973, 98)"
            ]
          },
          "metadata": {
            "tags": []
          },
          "execution_count": 117
        }
      ]
    },
    {
      "cell_type": "code",
      "metadata": {
        "colab": {
          "base_uri": "https://localhost:8080/"
        },
        "id": "7CJn6VKt3Rxm",
        "outputId": "243f678d-c7ba-4e0b-a7b8-50c46882a907"
      },
      "source": [
        "# Create correlation matrix\n",
        "corr_matrix = heads.corr()\n",
        "\n",
        "# Select upper triangle of correlation matrix\n",
        "upper = corr_matrix.where(np.triu(np.ones(corr_matrix.shape), k=1).astype(np.bool))\n",
        "\n",
        "# Find index of feature columns with correlation greater than 0.95\n",
        "to_drop = [column for column in upper.columns if any(abs(upper[column]) > 0.95)]\n",
        "\n",
        "to_drop"
      ],
      "execution_count": 118,
      "outputs": [
        {
          "output_type": "execute_result",
          "data": {
            "text/plain": [
              "['coopele', 'area2', 'tamhog', 'hhsize', 'hogar_total']"
            ]
          },
          "metadata": {
            "tags": []
          },
          "execution_count": 118
        }
      ]
    },
    {
      "cell_type": "code",
      "metadata": {
        "colab": {
          "base_uri": "https://localhost:8080/",
          "height": 202
        },
        "id": "25_du8xO3WRe",
        "outputId": "23ecdb5c-4d6f-482e-9c0e-9ac345b88783"
      },
      "source": [
        "corr_matrix.loc[corr_matrix['tamhog'].abs() > 0.9, corr_matrix['tamhog'].abs() > 0.9]"
      ],
      "execution_count": 119,
      "outputs": [
        {
          "output_type": "execute_result",
          "data": {
            "text/html": [
              "<div>\n",
              "<style scoped>\n",
              "    .dataframe tbody tr th:only-of-type {\n",
              "        vertical-align: middle;\n",
              "    }\n",
              "\n",
              "    .dataframe tbody tr th {\n",
              "        vertical-align: top;\n",
              "    }\n",
              "\n",
              "    .dataframe thead th {\n",
              "        text-align: right;\n",
              "    }\n",
              "</style>\n",
              "<table border=\"1\" class=\"dataframe\">\n",
              "  <thead>\n",
              "    <tr style=\"text-align: right;\">\n",
              "      <th></th>\n",
              "      <th>r4t3</th>\n",
              "      <th>tamhog</th>\n",
              "      <th>tamviv</th>\n",
              "      <th>hhsize</th>\n",
              "      <th>hogar_total</th>\n",
              "    </tr>\n",
              "  </thead>\n",
              "  <tbody>\n",
              "    <tr>\n",
              "      <th>r4t3</th>\n",
              "      <td>1.000000</td>\n",
              "      <td>0.996884</td>\n",
              "      <td>0.929237</td>\n",
              "      <td>0.996884</td>\n",
              "      <td>0.996884</td>\n",
              "    </tr>\n",
              "    <tr>\n",
              "      <th>tamhog</th>\n",
              "      <td>0.996884</td>\n",
              "      <td>1.000000</td>\n",
              "      <td>0.926667</td>\n",
              "      <td>1.000000</td>\n",
              "      <td>1.000000</td>\n",
              "    </tr>\n",
              "    <tr>\n",
              "      <th>tamviv</th>\n",
              "      <td>0.929237</td>\n",
              "      <td>0.926667</td>\n",
              "      <td>1.000000</td>\n",
              "      <td>0.926667</td>\n",
              "      <td>0.926667</td>\n",
              "    </tr>\n",
              "    <tr>\n",
              "      <th>hhsize</th>\n",
              "      <td>0.996884</td>\n",
              "      <td>1.000000</td>\n",
              "      <td>0.926667</td>\n",
              "      <td>1.000000</td>\n",
              "      <td>1.000000</td>\n",
              "    </tr>\n",
              "    <tr>\n",
              "      <th>hogar_total</th>\n",
              "      <td>0.996884</td>\n",
              "      <td>1.000000</td>\n",
              "      <td>0.926667</td>\n",
              "      <td>1.000000</td>\n",
              "      <td>1.000000</td>\n",
              "    </tr>\n",
              "  </tbody>\n",
              "</table>\n",
              "</div>"
            ],
            "text/plain": [
              "                 r4t3    tamhog    tamviv    hhsize  hogar_total\n",
              "r4t3         1.000000  0.996884  0.929237  0.996884     0.996884\n",
              "tamhog       0.996884  1.000000  0.926667  1.000000     1.000000\n",
              "tamviv       0.929237  0.926667  1.000000  0.926667     0.926667\n",
              "hhsize       0.996884  1.000000  0.926667  1.000000     1.000000\n",
              "hogar_total  0.996884  1.000000  0.926667  1.000000     1.000000"
            ]
          },
          "metadata": {
            "tags": []
          },
          "execution_count": 119
        }
      ]
    },
    {
      "cell_type": "code",
      "metadata": {
        "colab": {
          "base_uri": "https://localhost:8080/",
          "height": 290
        },
        "id": "1ydKr-ha3ZrL",
        "outputId": "aef3fb3b-67e8-4972-8545-aeacb7f44c72"
      },
      "source": [
        "sns.heatmap(corr_matrix.loc[corr_matrix['tamhog'].abs() > 0.9, corr_matrix['tamhog'].abs() > 0.9],\n",
        "            annot=True, cmap = plt.cm.Accent_r, fmt='.3f');"
      ],
      "execution_count": 120,
      "outputs": [
        {
          "output_type": "display_data",
          "data": {
            "image/png": "[encoded data removed]",
            "text/plain": [
              "<Figure size 432x288 with 2 Axes>"
            ]
          },
          "metadata": {
            "tags": []
          }
        }
      ]
    },
    {
      "cell_type": "code",
      "metadata": {
        "id": "rw4lnVJS3c3Q"
      },
      "source": [
        "# There are several variables here having to do with the size of the house:\n",
        "# r4t3, Total persons in the household\n",
        "# tamhog, size of the household\n",
        "# tamviv, number of persons living in the household\n",
        "# hhsize, household size\n",
        "# hogar_total, # of total individuals in the household\n",
        "# These variables are all highly correlated with one another."
      ],
      "execution_count": 121,
      "outputs": []
    },
    {
      "cell_type": "code",
      "metadata": {
        "colab": {
          "base_uri": "https://localhost:8080/"
        },
        "id": "V6PLEdpN3jC6",
        "outputId": "489d3c76-2e3d-465c-c2e4-d0583f499cce"
      },
      "source": [
        "cols=['tamhog', 'hogar_total', 'r4t3']\n",
        "for df in [df_income_train, df_income_test]:\n",
        "    df.drop(columns = cols,inplace=True)\n",
        "\n",
        "df_income_train.shape"
      ],
      "execution_count": 122,
      "outputs": [
        {
          "output_type": "execute_result",
          "data": {
            "text/plain": [
              "(9557, 131)"
            ]
          },
          "metadata": {
            "tags": []
          },
          "execution_count": 122
        }
      ]
    },
    {
      "cell_type": "code",
      "metadata": {
        "colab": {
          "base_uri": "https://localhost:8080/"
        },
        "id": "VRfLP88O3llr",
        "outputId": "1e8ad439-37aa-43aa-9b72-c45f972d3050"
      },
      "source": [
        "# Check for redundant Individual variables\n",
        "\n",
        "ind = df_income_train[id_ + ind_bool + ind_ordered]\n",
        "ind.shape"
      ],
      "execution_count": 123,
      "outputs": [
        {
          "output_type": "execute_result",
          "data": {
            "text/plain": [
              "(9557, 39)"
            ]
          },
          "metadata": {
            "tags": []
          },
          "execution_count": 123
        }
      ]
    },
    {
      "cell_type": "code",
      "metadata": {
        "colab": {
          "base_uri": "https://localhost:8080/"
        },
        "id": "1BF50w4n3qAZ",
        "outputId": "e92fa123-a0d9-4198-b9bf-1a46fae5390d"
      },
      "source": [
        "# Create correlation matrix\n",
        "corr_matrix = ind.corr()\n",
        "\n",
        "# Select upper triangle of correlation matrix\n",
        "upper = corr_matrix.where(np.triu(np.ones(corr_matrix.shape), k=1).astype(np.bool))\n",
        "\n",
        "# Find index of feature columns with correlation greater than 0.95\n",
        "to_drop = [column for column in upper.columns if any(abs(upper[column]) > 0.95)]\n",
        "\n",
        "to_drop"
      ],
      "execution_count": 124,
      "outputs": [
        {
          "output_type": "execute_result",
          "data": {
            "text/plain": [
              "['female']"
            ]
          },
          "metadata": {
            "tags": []
          },
          "execution_count": 124
        }
      ]
    },
    {
      "cell_type": "code",
      "metadata": {
        "colab": {
          "base_uri": "https://localhost:8080/"
        },
        "id": "vtX6mSmZ3uTp",
        "outputId": "2d3a28fe-23c4-45f8-8935-09653b40aff4"
      },
      "source": [
        "# This is simply the opposite of male! We can remove the male flag.\n",
        "\n",
        "for df in [df_income_train, df_income_test]:\n",
        "    df.drop(columns = 'male',inplace=True)\n",
        "\n",
        "df_income_train.shape"
      ],
      "execution_count": 125,
      "outputs": [
        {
          "output_type": "execute_result",
          "data": {
            "text/plain": [
              "(9557, 130)"
            ]
          },
          "metadata": {
            "tags": []
          },
          "execution_count": 125
        }
      ]
    },
    {
      "cell_type": "code",
      "metadata": {
        "colab": {
          "base_uri": "https://localhost:8080/"
        },
        "id": "hzdxWVGh3x6B",
        "outputId": "ce224e62-f844-4738-8a78-196a697f71ad"
      },
      "source": [
        "# lets check area1 and area2 also\n",
        "# area1, =1 zona urbana \n",
        "# area2, =2 zona rural \n",
        "# area2 redundant because we have a column indicating if the house is in a urban zone\n",
        "\n",
        "for df in [df_income_train, df_income_test]:\n",
        "    df.drop(columns = 'area2',inplace=True)\n",
        "\n",
        "df_income_train.shape"
      ],
      "execution_count": 126,
      "outputs": [
        {
          "output_type": "execute_result",
          "data": {
            "text/plain": [
              "(9557, 129)"
            ]
          },
          "metadata": {
            "tags": []
          },
          "execution_count": 126
        }
      ]
    },
    {
      "cell_type": "code",
      "metadata": {
        "colab": {
          "base_uri": "https://localhost:8080/"
        },
        "id": "RQEIbtRs32Hl",
        "outputId": "f8652993-3217-4a98-c5fb-c4267cf40f88"
      },
      "source": [
        "#Finally lets delete 'Id', 'idhogar'\n",
        "\n",
        "cols=['Id','idhogar']\n",
        "for df in [df_income_train, df_income_test]:\n",
        "    df.drop(columns = cols,inplace=True)\n",
        "\n",
        "df_income_train.shape"
      ],
      "execution_count": 127,
      "outputs": [
        {
          "output_type": "execute_result",
          "data": {
            "text/plain": [
              "(9557, 127)"
            ]
          },
          "metadata": {
            "tags": []
          },
          "execution_count": 127
        }
      ]
    },
    {
      "cell_type": "markdown",
      "metadata": {
        "id": "w3Kt8Sf835Kh"
      },
      "source": [
        "Step 4: Predict the accuracy using random forest classifier."
      ]
    },
    {
      "cell_type": "code",
      "metadata": {
        "colab": {
          "base_uri": "https://localhost:8080/"
        },
        "id": "yKNkuv0k36f-",
        "outputId": "bb5ffd45-4ceb-4bb8-aba7-e0cbc40a51f3"
      },
      "source": [
        "x_features=df_income_train.iloc[:,0:-1]\n",
        "y_features=df_income_train.iloc[:,-1]\n",
        "print(x_features.shape)\n",
        "print(y_features.shape)"
      ],
      "execution_count": 128,
      "outputs": [
        {
          "output_type": "stream",
          "text": [
            "(9557, 126)\n",
            "(9557,)\n"
          ],
          "name": "stdout"
        }
      ]
    },
    {
      "cell_type": "code",
      "metadata": {
        "id": "7l0_MCka388O"
      },
      "source": [
        "from sklearn.ensemble import RandomForestClassifier\n",
        "from sklearn.model_selection import train_test_split\n",
        "from sklearn.metrics import accuracy_score,confusion_matrix,f1_score,classification_report\n",
        "\n",
        "x_train,x_test,y_train,y_test=train_test_split(x_features,y_features,test_size=0.2,random_state=1)\n",
        "rmclassifier = RandomForestClassifier()"
      ],
      "execution_count": 129,
      "outputs": []
    },
    {
      "cell_type": "code",
      "metadata": {
        "colab": {
          "base_uri": "https://localhost:8080/"
        },
        "id": "7FghKWvg4HE3",
        "outputId": "dc81d63c-166d-498f-bdf8-67c47f12025d"
      },
      "source": [
        "rmclassifier.fit(x_train,y_train)"
      ],
      "execution_count": 130,
      "outputs": [
        {
          "output_type": "execute_result",
          "data": {
            "text/plain": [
              "RandomForestClassifier(bootstrap=True, ccp_alpha=0.0, class_weight=None,\n",
              "                       criterion='gini', max_depth=None, max_features='auto',\n",
              "                       max_leaf_nodes=None, max_samples=None,\n",
              "                       min_impurity_decrease=0.0, min_impurity_split=None,\n",
              "                       min_samples_leaf=1, min_samples_split=2,\n",
              "                       min_weight_fraction_leaf=0.0, n_estimators=100,\n",
              "                       n_jobs=None, oob_score=False, random_state=None,\n",
              "                       verbose=0, warm_start=False)"
            ]
          },
          "metadata": {
            "tags": []
          },
          "execution_count": 130
        }
      ]
    },
    {
      "cell_type": "code",
      "metadata": {
        "id": "2QY0TTb64KDr"
      },
      "source": [
        "y_predict = rmclassifier.predict(x_test)"
      ],
      "execution_count": 131,
      "outputs": []
    },
    {
      "cell_type": "code",
      "metadata": {
        "colab": {
          "base_uri": "https://localhost:8080/"
        },
        "id": "YLE4Lo8X4OHa",
        "outputId": "7eb06693-b965-44e4-ef0d-d11178439225"
      },
      "source": [
        "print(accuracy_score(y_test,y_predict))\n",
        "print(confusion_matrix(y_test,y_predict))\n",
        "print(classification_report(y_test,y_predict))"
      ],
      "execution_count": 132,
      "outputs": [
        {
          "output_type": "stream",
          "text": [
            "0.950836820083682\n",
            "[[ 134    0    0   23]\n",
            " [   1  289    0   27]\n",
            " [   0    1  192   40]\n",
            " [   0    1    1 1203]]\n",
            "              precision    recall  f1-score   support\n",
            "\n",
            "           1       0.99      0.85      0.92       157\n",
            "           2       0.99      0.91      0.95       317\n",
            "           3       0.99      0.82      0.90       233\n",
            "           4       0.93      1.00      0.96      1205\n",
            "\n",
            "    accuracy                           0.95      1912\n",
            "   macro avg       0.98      0.90      0.93      1912\n",
            "weighted avg       0.95      0.95      0.95      1912\n",
            "\n"
          ],
          "name": "stdout"
        }
      ]
    },
    {
      "cell_type": "code",
      "metadata": {
        "id": "K8e6Kwk94S8Q"
      },
      "source": [
        "y_predict_testdata = rmclassifier.predict(df_income_test)"
      ],
      "execution_count": 133,
      "outputs": []
    },
    {
      "cell_type": "code",
      "metadata": {
        "colab": {
          "base_uri": "https://localhost:8080/"
        },
        "id": "_xZPCFpL4VBg",
        "outputId": "510c99e2-f745-4d05-e0fb-acbb16c7425a"
      },
      "source": [
        "y_predict_testdata"
      ],
      "execution_count": 134,
      "outputs": [
        {
          "output_type": "execute_result",
          "data": {
            "text/plain": [
              "array([4, 4, 4, ..., 2, 2, 2])"
            ]
          },
          "metadata": {
            "tags": []
          },
          "execution_count": 134
        }
      ]
    },
    {
      "cell_type": "markdown",
      "metadata": {
        "id": "gSBMSGx34XgR"
      },
      "source": [
        "Step 5: Check the accuracy using random forest with cross validation."
      ]
    },
    {
      "cell_type": "code",
      "metadata": {
        "id": "ClM0WgYP4Z4o"
      },
      "source": [
        "from sklearn.model_selection import KFold,cross_val_score"
      ],
      "execution_count": 135,
      "outputs": []
    },
    {
      "cell_type": "markdown",
      "metadata": {
        "id": "uPQhPG8U4lUq"
      },
      "source": [
        "5.1 Checking the score using default 10 trees"
      ]
    },
    {
      "cell_type": "code",
      "metadata": {
        "colab": {
          "base_uri": "https://localhost:8080/"
        },
        "id": "48FkINpp4cRW",
        "outputId": "e9635970-47ba-4a8f-dc30-0d49ca7bd5c6"
      },
      "source": [
        "seed=7\n",
        "\n",
        "kfold=KFold(n_splits=5,random_state=seed,shuffle=True)\n",
        "\n",
        "rmclassifier=RandomForestClassifier(random_state=10,n_jobs = -1)\n",
        "\n",
        "print(cross_val_score(rmclassifier,x_features,y_features,cv=kfold,scoring='accuracy'))\n",
        "\n",
        "results=cross_val_score(rmclassifier,x_features,y_features,cv=kfold,scoring='accuracy')\n",
        "\n",
        "print(results.mean()*100)"
      ],
      "execution_count": 136,
      "outputs": [
        {
          "output_type": "stream",
          "text": [
            "[0.94246862 0.94979079 0.94557823 0.94243851 0.94976452]\n",
            "94.60081361157272\n"
          ],
          "name": "stdout"
        }
      ]
    },
    {
      "cell_type": "markdown",
      "metadata": {
        "id": "bn5boqER4yzQ"
      },
      "source": [
        "5.2 Checking the score using 100 trees"
      ]
    },
    {
      "cell_type": "code",
      "metadata": {
        "colab": {
          "base_uri": "https://localhost:8080/"
        },
        "id": "yHKUwj2G41Y0",
        "outputId": "6a8f6c22-32f1-4e11-abbe-710bd3cc48af"
      },
      "source": [
        "num_trees= 100\n",
        "\n",
        "rmclassifier=RandomForestClassifier(n_estimators=100, random_state=10,n_jobs = -1)\n",
        "\n",
        "print(cross_val_score(rmclassifier,x_features,y_features,cv=kfold,scoring='accuracy'))\n",
        "\n",
        "results=cross_val_score(rmclassifier,x_features,y_features,cv=kfold,scoring='accuracy')\n",
        "\n",
        "print(results.mean()*100)"
      ],
      "execution_count": 137,
      "outputs": [
        {
          "output_type": "stream",
          "text": [
            "[0.94246862 0.94979079 0.94557823 0.94243851 0.94976452]\n",
            "94.60081361157272\n"
          ],
          "name": "stdout"
        }
      ]
    },
    {
      "cell_type": "markdown",
      "metadata": {
        "id": "JAGscmaA5BvH"
      },
      "source": [
        "Looking at the accuracy score, RandomForestClassifier with cross validation has the highest accuracy score of 94.60%"
      ]
    },
    {
      "cell_type": "code",
      "metadata": {
        "colab": {
          "base_uri": "https://localhost:8080/",
          "height": 202
        },
        "id": "UcK5CAu-5GAJ",
        "outputId": "27e73920-60de-4912-dc0d-59c3d4b73fb7"
      },
      "source": [
        "# lets visualize how our model uses the different features and which features have greater effect.\n",
        "rmclassifier.fit(x_features,y_features)\n",
        "\n",
        "labels = list(x_features)\n",
        "\n",
        "feature_importances = pd.DataFrame({'feature': labels, 'importance': rmclassifier.feature_importances_})\n",
        "\n",
        "feature_importances=feature_importances[feature_importances.importance>0.015]\n",
        "\n",
        "feature_importances.head()"
      ],
      "execution_count": 138,
      "outputs": [
        {
          "output_type": "execute_result",
          "data": {
            "text/html": [
              "<div>\n",
              "<style scoped>\n",
              "    .dataframe tbody tr th:only-of-type {\n",
              "        vertical-align: middle;\n",
              "    }\n",
              "\n",
              "    .dataframe tbody tr th {\n",
              "        vertical-align: top;\n",
              "    }\n",
              "\n",
              "    .dataframe thead th {\n",
              "        text-align: right;\n",
              "    }\n",
              "</style>\n",
              "<table border=\"1\" class=\"dataframe\">\n",
              "  <thead>\n",
              "    <tr style=\"text-align: right;\">\n",
              "      <th></th>\n",
              "      <th>feature</th>\n",
              "      <th>importance</th>\n",
              "    </tr>\n",
              "  </thead>\n",
              "  <tbody>\n",
              "    <tr>\n",
              "      <th>0</th>\n",
              "      <td>v2a1</td>\n",
              "      <td>0.018653</td>\n",
              "    </tr>\n",
              "    <tr>\n",
              "      <th>2</th>\n",
              "      <td>rooms</td>\n",
              "      <td>0.025719</td>\n",
              "    </tr>\n",
              "    <tr>\n",
              "      <th>9</th>\n",
              "      <td>r4h2</td>\n",
              "      <td>0.020706</td>\n",
              "    </tr>\n",
              "    <tr>\n",
              "      <th>10</th>\n",
              "      <td>r4h3</td>\n",
              "      <td>0.019808</td>\n",
              "    </tr>\n",
              "    <tr>\n",
              "      <th>11</th>\n",
              "      <td>r4m1</td>\n",
              "      <td>0.015271</td>\n",
              "    </tr>\n",
              "  </tbody>\n",
              "</table>\n",
              "</div>"
            ],
            "text/plain": [
              "   feature  importance\n",
              "0     v2a1    0.018653\n",
              "2    rooms    0.025719\n",
              "9     r4h2    0.020706\n",
              "10    r4h3    0.019808\n",
              "11    r4m1    0.015271"
            ]
          },
          "metadata": {
            "tags": []
          },
          "execution_count": 138
        }
      ]
    },
    {
      "cell_type": "code",
      "metadata": {
        "colab": {
          "base_uri": "https://localhost:8080/",
          "height": 411
        },
        "id": "IUOpobCb5QEZ",
        "outputId": "f7f17c06-291b-43cf-8be1-6b86a7eaac2c"
      },
      "source": [
        "feature_importances.sort_values(by=['importance'], ascending=True, inplace=True)\n",
        "feature_importances['positive'] = feature_importances['importance'] > 0\n",
        "feature_importances.set_index('feature',inplace=True)\n",
        "feature_importances.head()\n",
        "\n",
        "feature_importances.importance.plot(kind='barh', figsize=(11, 6),color = feature_importances.positive.map({True: 'blue', False: 'red'}))\n",
        "plt.xlabel('Importance')"
      ],
      "execution_count": 139,
      "outputs": [
        {
          "output_type": "execute_result",
          "data": {
            "text/plain": [
              "Text(0.5, 0, 'Importance')"
            ]
          },
          "metadata": {
            "tags": []
          },
          "execution_count": 139
        },
        {
          "output_type": "display_data",
          "data": {
            "image/png": "[encoded data removed]",
            "text/plain": [
              "<Figure size 792x432 with 1 Axes>"
            ]
          },
          "metadata": {
            "tags": []
          }
        }
      ]
    },
    {
      "cell_type": "markdown",
      "metadata": {
        "id": "2dhFjOOs5bTK"
      },
      "source": [
        "From the above figure, meaneduc,dependency,overcrowding has significant influence on the model."
      ]
    }
  ]
}